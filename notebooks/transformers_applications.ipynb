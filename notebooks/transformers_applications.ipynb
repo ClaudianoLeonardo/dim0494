{
 "cells": [
  {
   "cell_type": "code",
   "execution_count": 1,
   "id": "2e385fb1",
   "metadata": {},
   "outputs": [
    {
     "name": "stderr",
     "output_type": "stream",
     "text": [
      "2022-11-24 15:12:04.980515: I tensorflow/core/platform/cpu_feature_guard.cc:193] This TensorFlow binary is optimized with oneAPI Deep Neural Network Library (oneDNN) to use the following CPU instructions in performance-critical operations:  AVX2 FMA\n",
      "To enable them in other operations, rebuild TensorFlow with the appropriate compiler flags.\n",
      "2022-11-24 15:12:05.133038: E tensorflow/stream_executor/cuda/cuda_blas.cc:2981] Unable to register cuBLAS factory: Attempting to register factory for plugin cuBLAS when one has already been registered\n",
      "2022-11-24 15:12:05.582158: W tensorflow/stream_executor/platform/default/dso_loader.cc:64] Could not load dynamic library 'libnvinfer.so.7'; dlerror: libnvinfer.so.7: cannot open shared object file: No such file or directory; LD_LIBRARY_PATH: :/home/rmaia/miniconda3/envs/dim0494/lib/\n",
      "2022-11-24 15:12:05.582220: W tensorflow/stream_executor/platform/default/dso_loader.cc:64] Could not load dynamic library 'libnvinfer_plugin.so.7'; dlerror: libnvinfer_plugin.so.7: cannot open shared object file: No such file or directory; LD_LIBRARY_PATH: :/home/rmaia/miniconda3/envs/dim0494/lib/\n",
      "2022-11-24 15:12:05.582226: W tensorflow/compiler/tf2tensorrt/utils/py_utils.cc:38] TF-TRT Warning: Cannot dlopen some TensorRT libraries. If you would like to use Nvidia GPU with TensorRT, please make sure the missing libraries mentioned above are installed properly.\n"
     ]
    }
   ],
   "source": [
    "from transformers import pipeline\n",
    "import pandas as pd"
   ]
  },
  {
   "cell_type": "code",
   "execution_count": 2,
   "id": "09e1b038",
   "metadata": {},
   "outputs": [
    {
     "name": "stdout",
     "output_type": "stream",
     "text": [
      "TEXT:\n",
      "\n",
      " First things first - anyone who calls Plan 9 from Outer Space the worst movie ever made needs to watch more movies! To me \"the worst\" would be one that was dull and has no entertainment value whatsoever. Plan 9 is the complete opposite of dull, and is it entertaining? You bet! It's still one of the greatest beer'n'pizza and have a bunch of your pals over movies ever made. Hell, it isn't even the most inept and bizarre movie Ed Wood ever made, that would still have to be 'Glen Or Glenda', which for some strange reason still doesn't have a tenth of the cult following 'Plan 9' does. Speaking of cult, in some ways 'Plan 9' is almost THE definitive cult movie if you consider that it virtually vanished without a trace when it was first released and it still lives on because it was subsequently rediscovered by thousands of enthusiastic movie nuts, collectors, journalists, cartoonists, rock musicians (e.g. The Damned), and other film makers (Joe Dante, Sam Raimi, Tim Burton). I think 'Glen Or Glenda' is Wood's most amazing achievement myself, but I still love 'Plan 9'. I've lost track of how many times I've seen it over the years. I wouldn't go so far as to say I have it memorized or anything, but it's always in the back of my mind. It's like part of the collective pop culture unconscious that I carry around with me at all times. As much as I love Bela Lugosi I think the three main reasons this movie is truly unforgettable (apart from the obvious - silly aliens, laughably bad dialogue and those flying saucers,etc.etc.) are Criswell, Vampira, and especially Tor Johnson. Any three of those people being involved would have made this something special, but all three! Man! This is trash heaven! It's hard to believe there's anyone left alive who hasn't already seen this movie, but if by some strange twist of fate you are one of the uninitiated, you MUST, I repeat MUST watch 'Plan 9' as soon as possible! And remember, my friends, future events such as these will effect YOU in the future!\n",
      "\n",
      "Number of words: 359\n"
     ]
    }
   ],
   "source": [
    "text = \"First things first - anyone who calls Plan 9 from Outer Space the worst movie ever made needs to watch more movies! To me \\\"the worst\\\" would be one that was dull and has no entertainment value whatsoever. Plan 9 is the complete opposite of dull, and is it entertaining? You bet! It's still one of the greatest beer'n'pizza and have a bunch of your pals over movies ever made. Hell, it isn't even the most inept and bizarre movie Ed Wood ever made, that would still have to be 'Glen Or Glenda', which for some strange reason still doesn't have a tenth of the cult following 'Plan 9' does. Speaking of cult, in some ways 'Plan 9' is almost THE definitive cult movie if you consider that it virtually vanished without a trace when it was first released and it still lives on because it was subsequently rediscovered by thousands of enthusiastic movie nuts, collectors, journalists, cartoonists, rock musicians (e.g. The Damned), and other film makers (Joe Dante, Sam Raimi, Tim Burton). I think 'Glen Or Glenda' is Wood's most amazing achievement myself, but I still love 'Plan 9'. I've lost track of how many times I've seen it over the years. I wouldn't go so far as to say I have it memorized or anything, but it's always in the back of my mind. It's like part of the collective pop culture unconscious that I carry around with me at all times. As much as I love Bela Lugosi I think the three main reasons this movie is truly unforgettable (apart from the obvious - silly aliens, laughably bad dialogue and those flying saucers,etc.etc.) are Criswell, Vampira, and especially Tor Johnson. Any three of those people being involved would have made this something special, but all three! Man! This is trash heaven! It's hard to believe there's anyone left alive who hasn't already seen this movie, but if by some strange twist of fate you are one of the uninitiated, you MUST, I repeat MUST watch 'Plan 9' as soon as possible! And remember, my friends, future events such as these will effect YOU in the future!\"\n",
    "print(f'TEXT:\\n\\n {text}\\n')\n",
    "print(f\"Number of words: {len(text.split(' '))}\")"
   ]
  },
  {
   "cell_type": "markdown",
   "id": "df34aeee",
   "metadata": {},
   "source": [
    "# text classification"
   ]
  },
  {
   "cell_type": "code",
   "execution_count": 3,
   "id": "6fc40259",
   "metadata": {},
   "outputs": [
    {
     "name": "stderr",
     "output_type": "stream",
     "text": [
      "No model was supplied, defaulted to distilbert-base-uncased-finetuned-sst-2-english and revision af0f99b (https://huggingface.co/distilbert-base-uncased-finetuned-sst-2-english).\n",
      "Using a pipeline without specifying a model name and revision in production is not recommended.\n"
     ]
    }
   ],
   "source": [
    "classifier = pipeline(\"text-classification\")"
   ]
  },
  {
   "cell_type": "code",
   "execution_count": 4,
   "id": "60e0241f",
   "metadata": {},
   "outputs": [
    {
     "data": {
      "text/html": [
       "<div>\n",
       "<style scoped>\n",
       "    .dataframe tbody tr th:only-of-type {\n",
       "        vertical-align: middle;\n",
       "    }\n",
       "\n",
       "    .dataframe tbody tr th {\n",
       "        vertical-align: top;\n",
       "    }\n",
       "\n",
       "    .dataframe thead th {\n",
       "        text-align: right;\n",
       "    }\n",
       "</style>\n",
       "<table border=\"1\" class=\"dataframe\">\n",
       "  <thead>\n",
       "    <tr style=\"text-align: right;\">\n",
       "      <th></th>\n",
       "      <th>label</th>\n",
       "      <th>score</th>\n",
       "    </tr>\n",
       "  </thead>\n",
       "  <tbody>\n",
       "    <tr>\n",
       "      <th>0</th>\n",
       "      <td>POSITIVE</td>\n",
       "      <td>0.941273</td>\n",
       "    </tr>\n",
       "  </tbody>\n",
       "</table>\n",
       "</div>"
      ],
      "text/plain": [
       "      label     score\n",
       "0  POSITIVE  0.941273"
      ]
     },
     "execution_count": 4,
     "metadata": {},
     "output_type": "execute_result"
    }
   ],
   "source": [
    "outputs = classifier(text)\n",
    "pd.DataFrame(outputs)"
   ]
  },
  {
   "cell_type": "markdown",
   "id": "e14d7a1f",
   "metadata": {},
   "source": [
    "# named entity recognition"
   ]
  },
  {
   "cell_type": "code",
   "execution_count": 5,
   "id": "73934b3c",
   "metadata": {},
   "outputs": [
    {
     "name": "stderr",
     "output_type": "stream",
     "text": [
      "No model was supplied, defaulted to dbmdz/bert-large-cased-finetuned-conll03-english and revision f2482bf (https://huggingface.co/dbmdz/bert-large-cased-finetuned-conll03-english).\n",
      "Using a pipeline without specifying a model name and revision in production is not recommended.\n"
     ]
    }
   ],
   "source": [
    "ner_tagger = pipeline(\"ner\", aggregation_strategy=\"simple\")"
   ]
  },
  {
   "cell_type": "code",
   "execution_count": 6,
   "id": "4a97afad",
   "metadata": {},
   "outputs": [
    {
     "data": {
      "text/html": [
       "<div>\n",
       "<style scoped>\n",
       "    .dataframe tbody tr th:only-of-type {\n",
       "        vertical-align: middle;\n",
       "    }\n",
       "\n",
       "    .dataframe tbody tr th {\n",
       "        vertical-align: top;\n",
       "    }\n",
       "\n",
       "    .dataframe thead th {\n",
       "        text-align: right;\n",
       "    }\n",
       "</style>\n",
       "<table border=\"1\" class=\"dataframe\">\n",
       "  <thead>\n",
       "    <tr style=\"text-align: right;\">\n",
       "      <th></th>\n",
       "      <th>entity_group</th>\n",
       "      <th>score</th>\n",
       "      <th>word</th>\n",
       "      <th>start</th>\n",
       "      <th>end</th>\n",
       "    </tr>\n",
       "  </thead>\n",
       "  <tbody>\n",
       "    <tr>\n",
       "      <th>0</th>\n",
       "      <td>MISC</td>\n",
       "      <td>0.987539</td>\n",
       "      <td>Plan 9 from Outer Space</td>\n",
       "      <td>38</td>\n",
       "      <td>61</td>\n",
       "    </tr>\n",
       "    <tr>\n",
       "      <th>1</th>\n",
       "      <td>MISC</td>\n",
       "      <td>0.991049</td>\n",
       "      <td>Plan 9</td>\n",
       "      <td>204</td>\n",
       "      <td>210</td>\n",
       "    </tr>\n",
       "    <tr>\n",
       "      <th>2</th>\n",
       "      <td>PER</td>\n",
       "      <td>0.999299</td>\n",
       "      <td>Ed Wood</td>\n",
       "      <td>428</td>\n",
       "      <td>435</td>\n",
       "    </tr>\n",
       "    <tr>\n",
       "      <th>3</th>\n",
       "      <td>MISC</td>\n",
       "      <td>0.996711</td>\n",
       "      <td>Glen Or Glenda</td>\n",
       "      <td>476</td>\n",
       "      <td>490</td>\n",
       "    </tr>\n",
       "    <tr>\n",
       "      <th>4</th>\n",
       "      <td>MISC</td>\n",
       "      <td>0.990881</td>\n",
       "      <td>Plan 9</td>\n",
       "      <td>573</td>\n",
       "      <td>579</td>\n",
       "    </tr>\n",
       "    <tr>\n",
       "      <th>5</th>\n",
       "      <td>MISC</td>\n",
       "      <td>0.994433</td>\n",
       "      <td>Plan 9</td>\n",
       "      <td>619</td>\n",
       "      <td>625</td>\n",
       "    </tr>\n",
       "    <tr>\n",
       "      <th>6</th>\n",
       "      <td>MISC</td>\n",
       "      <td>0.525867</td>\n",
       "      <td>The Damned</td>\n",
       "      <td>912</td>\n",
       "      <td>922</td>\n",
       "    </tr>\n",
       "    <tr>\n",
       "      <th>7</th>\n",
       "      <td>PER</td>\n",
       "      <td>0.999209</td>\n",
       "      <td>Joe Dante</td>\n",
       "      <td>948</td>\n",
       "      <td>957</td>\n",
       "    </tr>\n",
       "    <tr>\n",
       "      <th>8</th>\n",
       "      <td>PER</td>\n",
       "      <td>0.997036</td>\n",
       "      <td>Sam Raimi</td>\n",
       "      <td>959</td>\n",
       "      <td>968</td>\n",
       "    </tr>\n",
       "    <tr>\n",
       "      <th>9</th>\n",
       "      <td>PER</td>\n",
       "      <td>0.999169</td>\n",
       "      <td>Tim Burton</td>\n",
       "      <td>970</td>\n",
       "      <td>980</td>\n",
       "    </tr>\n",
       "    <tr>\n",
       "      <th>10</th>\n",
       "      <td>MISC</td>\n",
       "      <td>0.996608</td>\n",
       "      <td>Glen Or Glenda</td>\n",
       "      <td>992</td>\n",
       "      <td>1006</td>\n",
       "    </tr>\n",
       "    <tr>\n",
       "      <th>11</th>\n",
       "      <td>PER</td>\n",
       "      <td>0.999501</td>\n",
       "      <td>Wood</td>\n",
       "      <td>1011</td>\n",
       "      <td>1015</td>\n",
       "    </tr>\n",
       "    <tr>\n",
       "      <th>12</th>\n",
       "      <td>MISC</td>\n",
       "      <td>0.992092</td>\n",
       "      <td>Plan 9</td>\n",
       "      <td>1069</td>\n",
       "      <td>1075</td>\n",
       "    </tr>\n",
       "    <tr>\n",
       "      <th>13</th>\n",
       "      <td>PER</td>\n",
       "      <td>0.837882</td>\n",
       "      <td>Bela Lugosi</td>\n",
       "      <td>1362</td>\n",
       "      <td>1373</td>\n",
       "    </tr>\n",
       "    <tr>\n",
       "      <th>14</th>\n",
       "      <td>MISC</td>\n",
       "      <td>0.795984</td>\n",
       "      <td>Criswell</td>\n",
       "      <td>1541</td>\n",
       "      <td>1549</td>\n",
       "    </tr>\n",
       "    <tr>\n",
       "      <th>15</th>\n",
       "      <td>PER</td>\n",
       "      <td>0.540023</td>\n",
       "      <td>V</td>\n",
       "      <td>1551</td>\n",
       "      <td>1552</td>\n",
       "    </tr>\n",
       "    <tr>\n",
       "      <th>16</th>\n",
       "      <td>ORG</td>\n",
       "      <td>0.735207</td>\n",
       "      <td>##amp</td>\n",
       "      <td>1552</td>\n",
       "      <td>1555</td>\n",
       "    </tr>\n",
       "    <tr>\n",
       "      <th>17</th>\n",
       "      <td>MISC</td>\n",
       "      <td>0.371377</td>\n",
       "      <td>##ira</td>\n",
       "      <td>1555</td>\n",
       "      <td>1558</td>\n",
       "    </tr>\n",
       "    <tr>\n",
       "      <th>18</th>\n",
       "      <td>PER</td>\n",
       "      <td>0.998941</td>\n",
       "      <td>Tor Johnson</td>\n",
       "      <td>1575</td>\n",
       "      <td>1586</td>\n",
       "    </tr>\n",
       "    <tr>\n",
       "      <th>19</th>\n",
       "      <td>MISC</td>\n",
       "      <td>0.842157</td>\n",
       "      <td>Plan 9</td>\n",
       "      <td>1894</td>\n",
       "      <td>1900</td>\n",
       "    </tr>\n",
       "  </tbody>\n",
       "</table>\n",
       "</div>"
      ],
      "text/plain": [
       "   entity_group     score                     word  start   end\n",
       "0          MISC  0.987539  Plan 9 from Outer Space     38    61\n",
       "1          MISC  0.991049                   Plan 9    204   210\n",
       "2           PER  0.999299                  Ed Wood    428   435\n",
       "3          MISC  0.996711           Glen Or Glenda    476   490\n",
       "4          MISC  0.990881                   Plan 9    573   579\n",
       "5          MISC  0.994433                   Plan 9    619   625\n",
       "6          MISC  0.525867               The Damned    912   922\n",
       "7           PER  0.999209                Joe Dante    948   957\n",
       "8           PER  0.997036                Sam Raimi    959   968\n",
       "9           PER  0.999169               Tim Burton    970   980\n",
       "10         MISC  0.996608           Glen Or Glenda    992  1006\n",
       "11          PER  0.999501                     Wood   1011  1015\n",
       "12         MISC  0.992092                   Plan 9   1069  1075\n",
       "13          PER  0.837882              Bela Lugosi   1362  1373\n",
       "14         MISC  0.795984                 Criswell   1541  1549\n",
       "15          PER  0.540023                        V   1551  1552\n",
       "16          ORG  0.735207                    ##amp   1552  1555\n",
       "17         MISC  0.371377                    ##ira   1555  1558\n",
       "18          PER  0.998941              Tor Johnson   1575  1586\n",
       "19         MISC  0.842157                   Plan 9   1894  1900"
      ]
     },
     "execution_count": 6,
     "metadata": {},
     "output_type": "execute_result"
    }
   ],
   "source": [
    "outputs = ner_tagger(text)\n",
    "pd.DataFrame(outputs)"
   ]
  },
  {
   "cell_type": "markdown",
   "id": "fbb16eee",
   "metadata": {},
   "source": [
    "# question answering"
   ]
  },
  {
   "cell_type": "code",
   "execution_count": 7,
   "id": "696a2c09",
   "metadata": {},
   "outputs": [
    {
     "name": "stderr",
     "output_type": "stream",
     "text": [
      "No model was supplied, defaulted to distilbert-base-cased-distilled-squad and revision 626af31 (https://huggingface.co/distilbert-base-cased-distilled-squad).\n",
      "Using a pipeline without specifying a model name and revision in production is not recommended.\n"
     ]
    }
   ],
   "source": [
    "reader = pipeline(\"question-answering\")"
   ]
  },
  {
   "cell_type": "code",
   "execution_count": 8,
   "id": "3a51c66c",
   "metadata": {},
   "outputs": [
    {
     "data": {
      "text/html": [
       "<div>\n",
       "<style scoped>\n",
       "    .dataframe tbody tr th:only-of-type {\n",
       "        vertical-align: middle;\n",
       "    }\n",
       "\n",
       "    .dataframe tbody tr th {\n",
       "        vertical-align: top;\n",
       "    }\n",
       "\n",
       "    .dataframe thead th {\n",
       "        text-align: right;\n",
       "    }\n",
       "</style>\n",
       "<table border=\"1\" class=\"dataframe\">\n",
       "  <thead>\n",
       "    <tr style=\"text-align: right;\">\n",
       "      <th></th>\n",
       "      <th>score</th>\n",
       "      <th>start</th>\n",
       "      <th>end</th>\n",
       "      <th>answer</th>\n",
       "    </tr>\n",
       "  </thead>\n",
       "  <tbody>\n",
       "    <tr>\n",
       "      <th>0</th>\n",
       "      <td>0.066809</td>\n",
       "      <td>204</td>\n",
       "      <td>243</td>\n",
       "      <td>Plan 9 is the complete opposite of dull</td>\n",
       "    </tr>\n",
       "  </tbody>\n",
       "</table>\n",
       "</div>"
      ],
      "text/plain": [
       "      score  start  end                                   answer\n",
       "0  0.066809    204  243  Plan 9 is the complete opposite of dull"
      ]
     },
     "execution_count": 8,
     "metadata": {},
     "output_type": "execute_result"
    }
   ],
   "source": [
    "question = \"What is the opinion on the movie?\"\n",
    "outputs = reader(question=question, context=text)\n",
    "pd.DataFrame([outputs])"
   ]
  },
  {
   "cell_type": "markdown",
   "id": "7a3afec4",
   "metadata": {},
   "source": [
    "# sumarização"
   ]
  },
  {
   "cell_type": "code",
   "execution_count": 9,
   "id": "dfe36079",
   "metadata": {},
   "outputs": [
    {
     "name": "stderr",
     "output_type": "stream",
     "text": [
      "No model was supplied, defaulted to sshleifer/distilbart-cnn-12-6 and revision a4f8f3e (https://huggingface.co/sshleifer/distilbart-cnn-12-6).\n",
      "Using a pipeline without specifying a model name and revision in production is not recommended.\n"
     ]
    }
   ],
   "source": [
    "summarizer = pipeline(\"summarization\")"
   ]
  },
  {
   "cell_type": "code",
   "execution_count": 10,
   "id": "cc37cac1",
   "metadata": {},
   "outputs": [
    {
     "name": "stdout",
     "output_type": "stream",
     "text": [
      " 'Plan 9' is almost THE definitive cult movie if you consider that it virtually vanished without a trace when it was first released. The three main reasons this movie is truly unforgettable are Criswell, Vampira, and especially Tor Johnson. It's hard to believe there's anyone left alive who hasn't already seen this movie.\n"
     ]
    }
   ],
   "source": [
    "outputs = summarizer(text, max_length=100, clean_up_tokenization_spaces=True)\n",
    "print(outputs[0]['summary_text'])"
   ]
  },
  {
   "cell_type": "code",
   "execution_count": 11,
   "id": "3fdee3e8",
   "metadata": {},
   "outputs": [
    {
     "data": {
      "application/vnd.jupyter.widget-view+json": {
       "model_id": "10761d69baa145c09c09f258b58e5fb0",
       "version_major": 2,
       "version_minor": 0
      },
      "text/plain": [
       "Downloading:   0%|          | 0.00/768k [00:00<?, ?B/s]"
      ]
     },
     "metadata": {},
     "output_type": "display_data"
    },
    {
     "data": {
      "application/vnd.jupyter.widget-view+json": {
       "model_id": "f4307ba0451240ffbdbcaf16ba919b47",
       "version_major": 2,
       "version_minor": 0
      },
      "text/plain": [
       "Downloading:   0%|          | 0.00/797k [00:00<?, ?B/s]"
      ]
     },
     "metadata": {},
     "output_type": "display_data"
    },
    {
     "data": {
      "application/vnd.jupyter.widget-view+json": {
       "model_id": "1c27319a00ea4f4aaa063d370bf3cc76",
       "version_major": 2,
       "version_minor": 0
      },
      "text/plain": [
       "Downloading:   0%|          | 0.00/1.27M [00:00<?, ?B/s]"
      ]
     },
     "metadata": {},
     "output_type": "display_data"
    },
    {
     "name": "stderr",
     "output_type": "stream",
     "text": [
      "/home/rmaia/miniconda3/envs/dim0494/lib/python3.9/site-packages/transformers/models/marian/tokenization_marian.py:194: UserWarning: Recommended: pip install sacremoses.\n",
      "  warnings.warn(\"Recommended: pip install sacremoses.\")\n"
     ]
    }
   ],
   "source": [
    "translator = pipeline(\"translation_en_to_de\", model=\"Helsinki-NLP/opus-mt-en-de\")"
   ]
  },
  {
   "cell_type": "code",
   "execution_count": 13,
   "id": "5773bcca",
   "metadata": {},
   "outputs": [
    {
     "name": "stderr",
     "output_type": "stream",
     "text": [
      "Your input_length: 484 is bigger than 0.9 * max_length: 512. You might consider increasing your max_length manually, e.g. translator('...', max_length=400)\n"
     ]
    }
   ],
   "source": [
    "outputs = translator(text, clean_up_tokenization_spaces=True, min_length=200)"
   ]
  },
  {
   "cell_type": "code",
   "execution_count": 14,
   "id": "5065990c",
   "metadata": {},
   "outputs": [
    {
     "name": "stderr",
     "output_type": "stream",
     "text": [
      "No model was supplied, defaulted to gpt2 and revision 6c0e608 (https://huggingface.co/gpt2).\n",
      "Using a pipeline without specifying a model name and revision in production is not recommended.\n"
     ]
    }
   ],
   "source": [
    "generator = pipeline(\"text-generation\")"
   ]
  },
  {
   "cell_type": "code",
   "execution_count": 18,
   "id": "b8267b6b",
   "metadata": {},
   "outputs": [
    {
     "name": "stderr",
     "output_type": "stream",
     "text": [
      "Setting `pad_token_id` to `eos_token_id`:50256 for open-end generation.\n"
     ]
    },
    {
     "name": "stdout",
     "output_type": "stream",
     "text": [
      "First things first.\n",
      "\n",
      " Response: \n",
      "I quite enjoyed Plan 9 from outter space. I loved how the ship looked like, the design was simple to work with, and I can only recommend it to you so that I will be able to make my way through any number of these.\n",
      "\n",
      "For my little boat like that, and for it to have the flexibility it has in an ever expanding world, I have to see it, and think about it and find and understand what it's doing that will work best for the craft and its people; as with any large scale military, I have to learn all the tools required to make something as large and functional as what I am currently doing. That can come before the time I have to add all of that stuff as new components to my project.\n",
      "\n",
      "\n",
      "Response: \n",
      "\n",
      "I am very excited to see the concept of a ship, and its design has been very successful with the ship, and in particular the shape and proportions.\n"
     ]
    }
   ],
   "source": [
    "response = \"I quite enjoyed Plan 9 from outter space.\"\n",
    "prompt = text[:18]+'.' + \"\\n\\n Response: \\n\" + response\n",
    "outputs = generator(prompt, max_length=200)\n",
    "print(outputs[0]['generated_text'])"
   ]
  },
  {
   "cell_type": "code",
   "execution_count": null,
   "id": "37cfec86",
   "metadata": {},
   "outputs": [],
   "source": []
  }
 ],
 "metadata": {
  "kernelspec": {
   "display_name": "Python 3 (ipykernel)",
   "language": "python",
   "name": "python3"
  },
  "language_info": {
   "codemirror_mode": {
    "name": "ipython",
    "version": 3
   },
   "file_extension": ".py",
   "mimetype": "text/x-python",
   "name": "python",
   "nbconvert_exporter": "python",
   "pygments_lexer": "ipython3",
   "version": "3.9.13"
  }
 },
 "nbformat": 4,
 "nbformat_minor": 5
}

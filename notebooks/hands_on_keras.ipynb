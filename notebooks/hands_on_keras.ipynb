{
 "cells": [
  {
   "cell_type": "code",
   "execution_count": 19,
   "id": "fcf21ddb",
   "metadata": {},
   "outputs": [],
   "source": [
    "# load libraries\n",
    "from sklearn.metrics import accuracy_score,classification_report\n",
    "import numpy as np\n",
    "import matplotlib.pyplot as plt\n",
    "from sklearn import svm\n",
    "from tensorflow import keras\n",
    "from tensorflow.keras import layers"
   ]
  },
  {
   "cell_type": "code",
   "execution_count": 20,
   "id": "7515b454",
   "metadata": {},
   "outputs": [],
   "source": [
    "# Load the data and split it between train and test sets\n",
    "(X_train, y_train), (X_test, y_test) = keras.datasets.mnist.load_data()"
   ]
  },
  {
   "cell_type": "code",
   "execution_count": 21,
   "id": "3380a0a7",
   "metadata": {},
   "outputs": [],
   "source": [
    "# Model / data parameters\n",
    "num_classes = 10\n",
    "input_shape = (28, 28, 1)"
   ]
  },
  {
   "cell_type": "markdown",
   "id": "416c6c5b",
   "metadata": {},
   "source": [
    "# pré-processamento de dados"
   ]
  },
  {
   "cell_type": "code",
   "execution_count": 22,
   "id": "6af0077e",
   "metadata": {},
   "outputs": [
    {
     "name": "stdout",
     "output_type": "stream",
     "text": [
      "X_train shape: (60000, 28, 28, 1)\n",
      "60000 train samples\n",
      "10000 test samples\n"
     ]
    }
   ],
   "source": [
    "# Scale images to the [0, 1] range\n",
    "X_train = X_train.astype(\"float32\") / 255\n",
    "X_test = X_test.astype(\"float32\") / 255\n",
    "\n",
    "# Make sure images have shape (28, 28, 1)\n",
    "X_train = np.expand_dims(X_train, -1)\n",
    "X_test = np.expand_dims(X_test, -1)\n",
    "print(\"X_train shape:\", X_train.shape)\n",
    "print(X_train.shape[0], \"train samples\")\n",
    "print(X_test.shape[0], \"test samples\")"
   ]
  },
  {
   "cell_type": "code",
   "execution_count": 23,
   "id": "0b216c6c",
   "metadata": {},
   "outputs": [
    {
     "name": "stdout",
     "output_type": "stream",
     "text": [
      "y_train shape: (60000, 10)\n"
     ]
    }
   ],
   "source": [
    "# convert class vectors to binary class matrices\n",
    "y_train = keras.utils.to_categorical(y_train, num_classes)\n",
    "y_test = keras.utils.to_categorical(y_test, num_classes)\n",
    "print(\"y_train shape:\", y_train.shape)"
   ]
  },
  {
   "cell_type": "markdown",
   "id": "5d86f054",
   "metadata": {},
   "source": [
    "# Construção do modelo"
   ]
  },
  {
   "cell_type": "code",
   "execution_count": 28,
   "id": "1e351fdf",
   "metadata": {},
   "outputs": [
    {
     "name": "stdout",
     "output_type": "stream",
     "text": [
      "Model: \"sequential_2\"\n",
      "_________________________________________________________________\n",
      "Layer (type)                 Output Shape              Param #   \n",
      "=================================================================\n",
      "conv2d_4 (Conv2D)            (None, 26, 26, 32)        320       \n",
      "_________________________________________________________________\n",
      "max_pooling2d_4 (MaxPooling2 (None, 13, 13, 32)        0         \n",
      "_________________________________________________________________\n",
      "conv2d_5 (Conv2D)            (None, 11, 11, 64)        18496     \n",
      "_________________________________________________________________\n",
      "max_pooling2d_5 (MaxPooling2 (None, 5, 5, 64)          0         \n",
      "_________________________________________________________________\n",
      "flatten_2 (Flatten)          (None, 1600)              0         \n",
      "_________________________________________________________________\n",
      "dropout_1 (Dropout)          (None, 1600)              0         \n",
      "_________________________________________________________________\n",
      "dense_2 (Dense)              (None, 10)                16010     \n",
      "=================================================================\n",
      "Total params: 34,826\n",
      "Trainable params: 34,826\n",
      "Non-trainable params: 0\n",
      "_________________________________________________________________\n"
     ]
    }
   ],
   "source": [
    "model = keras.Sequential(\n",
    "    [\n",
    "        keras.Input(shape=input_shape),\n",
    "        layers.Conv2D(32, kernel_size=(3, 3), activation=\"relu\"),\n",
    "        layers.MaxPooling2D(pool_size=(2, 2)),\n",
    "        layers.Conv2D(64, kernel_size=(3, 3), activation=\"relu\"),\n",
    "        layers.MaxPooling2D(pool_size=(2, 2)),\n",
    "        layers.Flatten(),\n",
    "        layers.Dropout(0.25),\n",
    "        layers.Dense(num_classes, activation=\"softmax\"),\n",
    "    ]\n",
    ")\n",
    "\n",
    "model.summary()"
   ]
  },
  {
   "cell_type": "markdown",
   "id": "5ba50fb5",
   "metadata": {},
   "source": [
    "# Treinamento do modelo"
   ]
  },
  {
   "cell_type": "code",
   "execution_count": 29,
   "id": "27181885",
   "metadata": {},
   "outputs": [
    {
     "name": "stdout",
     "output_type": "stream",
     "text": [
      "Epoch 1/30\n",
      "375/375 [==============================] - 2s 6ms/step - loss: 0.7323 - accuracy: 0.7773 - val_loss: 0.1061 - val_accuracy: 0.9690\n",
      "Epoch 2/30\n",
      "375/375 [==============================] - 1s 4ms/step - loss: 0.0994 - accuracy: 0.9701 - val_loss: 0.0750 - val_accuracy: 0.9764\n",
      "Epoch 3/30\n",
      "375/375 [==============================] - 2s 5ms/step - loss: 0.0708 - accuracy: 0.9780 - val_loss: 0.0646 - val_accuracy: 0.9818\n",
      "Epoch 4/30\n",
      "375/375 [==============================] - 2s 4ms/step - loss: 0.0591 - accuracy: 0.9811 - val_loss: 0.0553 - val_accuracy: 0.9846\n",
      "Epoch 5/30\n",
      "375/375 [==============================] - 1s 4ms/step - loss: 0.0473 - accuracy: 0.9857 - val_loss: 0.0532 - val_accuracy: 0.9852\n",
      "Epoch 6/30\n",
      "375/375 [==============================] - 2s 4ms/step - loss: 0.0433 - accuracy: 0.9866 - val_loss: 0.0486 - val_accuracy: 0.9861\n",
      "Epoch 7/30\n",
      "375/375 [==============================] - 2s 5ms/step - loss: 0.0385 - accuracy: 0.9880 - val_loss: 0.0474 - val_accuracy: 0.9869\n",
      "Epoch 8/30\n",
      "375/375 [==============================] - 2s 5ms/step - loss: 0.0339 - accuracy: 0.9899 - val_loss: 0.0481 - val_accuracy: 0.9862\n",
      "Epoch 9/30\n",
      "375/375 [==============================] - 2s 5ms/step - loss: 0.0308 - accuracy: 0.9902 - val_loss: 0.0552 - val_accuracy: 0.9850\n",
      "Epoch 10/30\n",
      "375/375 [==============================] - 2s 4ms/step - loss: 0.0306 - accuracy: 0.9906 - val_loss: 0.0458 - val_accuracy: 0.9866\n",
      "Epoch 11/30\n",
      "375/375 [==============================] - 2s 4ms/step - loss: 0.0263 - accuracy: 0.9918 - val_loss: 0.0463 - val_accuracy: 0.9872\n",
      "Epoch 12/30\n",
      "375/375 [==============================] - 2s 4ms/step - loss: 0.0257 - accuracy: 0.9922 - val_loss: 0.0461 - val_accuracy: 0.9870\n",
      "Epoch 13/30\n",
      "375/375 [==============================] - 1s 4ms/step - loss: 0.0239 - accuracy: 0.9922 - val_loss: 0.0462 - val_accuracy: 0.9879\n",
      "Epoch 14/30\n",
      "375/375 [==============================] - 2s 4ms/step - loss: 0.0226 - accuracy: 0.9928 - val_loss: 0.0482 - val_accuracy: 0.9884\n",
      "Epoch 15/30\n",
      "375/375 [==============================] - 1s 4ms/step - loss: 0.0208 - accuracy: 0.9927 - val_loss: 0.0443 - val_accuracy: 0.9873\n",
      "Epoch 16/30\n",
      "375/375 [==============================] - 2s 4ms/step - loss: 0.0196 - accuracy: 0.9926 - val_loss: 0.0484 - val_accuracy: 0.9875\n",
      "Epoch 17/30\n",
      "375/375 [==============================] - 1s 4ms/step - loss: 0.0156 - accuracy: 0.9949 - val_loss: 0.0416 - val_accuracy: 0.9895\n",
      "Epoch 18/30\n",
      "375/375 [==============================] - 2s 5ms/step - loss: 0.0157 - accuracy: 0.9946 - val_loss: 0.0449 - val_accuracy: 0.9887\n",
      "Epoch 19/30\n",
      "375/375 [==============================] - 1s 3ms/step - loss: 0.0158 - accuracy: 0.9948 - val_loss: 0.0448 - val_accuracy: 0.9884\n",
      "Epoch 20/30\n",
      "375/375 [==============================] - 1s 2ms/step - loss: 0.0138 - accuracy: 0.9951 - val_loss: 0.0416 - val_accuracy: 0.9894\n",
      "Epoch 21/30\n",
      "375/375 [==============================] - 1s 3ms/step - loss: 0.0146 - accuracy: 0.9954 - val_loss: 0.0477 - val_accuracy: 0.9882\n",
      "Epoch 22/30\n",
      "375/375 [==============================] - 1s 4ms/step - loss: 0.0148 - accuracy: 0.9954 - val_loss: 0.0449 - val_accuracy: 0.9895\n",
      "Epoch 23/30\n",
      "375/375 [==============================] - 1s 4ms/step - loss: 0.0124 - accuracy: 0.9960 - val_loss: 0.0480 - val_accuracy: 0.9889\n",
      "Epoch 24/30\n",
      "375/375 [==============================] - 1s 4ms/step - loss: 0.0124 - accuracy: 0.9958 - val_loss: 0.0441 - val_accuracy: 0.9897\n",
      "Epoch 25/30\n",
      "375/375 [==============================] - 2s 6ms/step - loss: 0.0114 - accuracy: 0.9961 - val_loss: 0.0457 - val_accuracy: 0.9888\n",
      "Epoch 26/30\n",
      "375/375 [==============================] - 1s 2ms/step - loss: 0.0106 - accuracy: 0.9964 - val_loss: 0.0442 - val_accuracy: 0.9894\n",
      "Epoch 27/30\n",
      "375/375 [==============================] - 2s 4ms/step - loss: 0.0111 - accuracy: 0.9964 - val_loss: 0.0444 - val_accuracy: 0.9893\n",
      "Epoch 28/30\n",
      "375/375 [==============================] - 1s 3ms/step - loss: 0.0087 - accuracy: 0.9972 - val_loss: 0.0438 - val_accuracy: 0.9899\n",
      "Epoch 29/30\n",
      "375/375 [==============================] - 2s 5ms/step - loss: 0.0091 - accuracy: 0.9971 - val_loss: 0.0475 - val_accuracy: 0.9898\n",
      "Epoch 30/30\n",
      "375/375 [==============================] - 2s 5ms/step - loss: 0.0108 - accuracy: 0.9964 - val_loss: 0.0536 - val_accuracy: 0.9883\n"
     ]
    }
   ],
   "source": [
    "# Hyperparameters\n",
    "batch_size = 128\n",
    "epochs = 30\n",
    "model.compile(loss=\"categorical_crossentropy\", optimizer=\"adam\", metrics=[\"accuracy\"])\n",
    "\n",
    "from sklearn.model_selection import train_test_split\n",
    "\n",
    "# Separate the test data\n",
    "X_train1, X_val, y_train1, y_val = train_test_split(X_train, y_train, test_size=0.2, shuffle=True)\n",
    "\n",
    "# model training\n",
    "history = model.fit(X_train1,\n",
    "                    y_train1,\n",
    "                    batch_size=batch_size,\n",
    "                    epochs=epochs,\n",
    "                    validation_data=(X_val, y_val),\n",
    "                    shuffle=True)"
   ]
  },
  {
   "cell_type": "markdown",
   "id": "51cc6113",
   "metadata": {},
   "source": [
    "# avaliação do modelo"
   ]
  },
  {
   "cell_type": "code",
   "execution_count": 26,
   "id": "886cb383",
   "metadata": {},
   "outputs": [
    {
     "name": "stdout",
     "output_type": "stream",
     "text": [
      "Test loss: 0.05256621167063713\n",
      "Test accuracy: 0.9886000156402588\n"
     ]
    }
   ],
   "source": [
    "score = model.evaluate(X_test, y_test, verbose=0)\n",
    "print(\"Test loss:\", score[0])\n",
    "print(\"Test accuracy:\", score[1])"
   ]
  },
  {
   "cell_type": "code",
   "execution_count": 27,
   "id": "5a67cca1",
   "metadata": {},
   "outputs": [
    {
     "data": {
      "text/plain": [
       "<matplotlib.legend.Legend at 0x7fc260931f70>"
      ]
     },
     "execution_count": 27,
     "metadata": {},
     "output_type": "execute_result"
    },
    {
     "data": {
      "image/png": "[encoded data removed]",
      "text/plain": [
       "<Figure size 432x288 with 1 Axes>"
      ]
     },
     "metadata": {
      "needs_background": "light"
     },
     "output_type": "display_data"
    },
    {
     "data": {
      "image/png": "[encoded data removed]",
      "text/plain": [
       "<Figure size 432x288 with 1 Axes>"
      ]
     },
     "metadata": {
      "needs_background": "light"
     },
     "output_type": "display_data"
    }
   ],
   "source": [
    "plt.figure()\n",
    "plt.plot(history.epoch, history.history['val_loss'], 'o-r', label=\"Validação\")\n",
    "plt.plot(history.epoch, history.history['loss'],',-y', label=\"Treinamento\")\n",
    "plt.title(\"Curva de aprendizado: Erro CNN\")\n",
    "plt.xlabel(\"Época\")\n",
    "plt.ylabel(\"Erro\")\n",
    "plt.legend()\n",
    "\n",
    "plt.figure()\n",
    "plt.plot(history.epoch, history.history['val_accuracy'], 'o-r', label=\"Validação\")\n",
    "plt.plot(history.epoch, history.history['accuracy'],',-y', label=\"Treinamento\")\n",
    "plt.title(\"Curva de aprendizado: Erro CNN\")\n",
    "plt.xlabel(\"Época\")\n",
    "plt.ylabel(\"Erro\")\n",
    "plt.legend()"
   ]
  },
  {
   "cell_type": "code",
   "execution_count": null,
   "id": "43f8f0e3",
   "metadata": {},
   "outputs": [],
   "source": []
  }
 ],
 "metadata": {
  "kernelspec": {
   "display_name": "Python 3 (ipykernel)",
   "language": "python",
   "name": "python3"
  },
  "language_info": {
   "codemirror_mode": {
    "name": "ipython",
    "version": 3
   },
   "file_extension": ".py",
   "mimetype": "text/x-python",
   "name": "python",
   "nbconvert_exporter": "python",
   "pygments_lexer": "ipython3",
   "version": "3.9.12"
  }
 },
 "nbformat": 4,
 "nbformat_minor": 5
}

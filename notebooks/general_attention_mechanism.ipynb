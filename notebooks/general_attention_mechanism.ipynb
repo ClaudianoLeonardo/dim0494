{
 "cells": [
  {
   "cell_type": "code",
   "execution_count": 21,
   "id": "b5245525",
   "metadata": {},
   "outputs": [],
   "source": [
    "import numpy as np\n",
    "from scipy.special import softmax"
   ]
  },
  {
   "cell_type": "markdown",
   "id": "15472d01",
   "metadata": {},
   "source": [
    "# scaled dot-product attention simulation"
   ]
  },
  {
   "cell_type": "code",
   "execution_count": 22,
   "id": "0d24390a",
   "metadata": {},
   "outputs": [
    {
     "name": "stdout",
     "output_type": "stream",
     "text": [
      "w1=[[0.69453339]\n",
      " [0.56874769]\n",
      " [0.67876956]\n",
      " [0.46420813]\n",
      " [0.72690923]]\n",
      "\n",
      "w2=[[0.45540857]\n",
      " [0.74785557]\n",
      " [0.81749043]\n",
      " [0.28979171]\n",
      " [0.03700459]]\n",
      "\n",
      "w3=[[0.69380642]\n",
      " [0.43719921]\n",
      " [0.67627902]\n",
      " [0.32564306]\n",
      " [0.26195105]]\n",
      "\n"
     ]
    }
   ],
   "source": [
    "# random word embeddings\n",
    "w1 = np.random.rand(5,1)\n",
    "w2 = np.random.rand(5,1)\n",
    "w3 = np.random.rand(5,1)\n",
    "\n",
    "print(f'w1={w1}\\n')\n",
    "print(f'w2={w2}\\n')\n",
    "print(f'w3={w3}\\n')"
   ]
  },
  {
   "cell_type": "code",
   "execution_count": 23,
   "id": "bd3161e2",
   "metadata": {},
   "outputs": [
    {
     "name": "stdout",
     "output_type": "stream",
     "text": [
      "\n",
      "WQ=[[0.85768293 0.8097524  0.1131521 ]\n",
      " [0.03434299 0.78957685 0.98330118]\n",
      " [0.50379376 0.63112608 0.67818403]\n",
      " [0.930376   0.83203011 0.04887063]\n",
      " [0.61405312 0.98550047 0.40614657]]\n",
      "\n",
      "\n",
      "WK=[[0.36919691 0.1361247  0.72053443]\n",
      " [0.71822876 0.39686467 0.04528545]\n",
      " [0.19157466 0.36145483 0.2659768 ]\n",
      " [0.10982799 0.77172553 0.55713648]\n",
      " [0.87763333 0.45291319 0.10164459]]\n",
      "\n",
      "\n",
      "WV=[[0.817592   0.94143668 0.22078388]\n",
      " [0.3274662  0.41683922 0.81230439]\n",
      " [0.73981798 0.76074838 0.09931974]\n",
      " [0.0048496  0.74979256 0.64001566]\n",
      " [0.35269625 0.31325836 0.31122616]]\n",
      "\n"
     ]
    }
   ],
   "source": [
    "# random transformation matrices\n",
    "WQ = np.random.rand(5,3)\n",
    "WK = np.random.rand(5,3)\n",
    "WV = np.random.rand(5,3)\n",
    "print(f'\\nWQ={WQ}\\n')\n",
    "print(f'\\nWK={WK}\\n')\n",
    "print(f'\\nWV={WV}\\n')"
   ]
  },
  {
   "cell_type": "code",
   "execution_count": 25,
   "id": "f4531d96",
   "metadata": {},
   "outputs": [
    {
     "name": "stdout",
     "output_type": "stream",
     "text": [
      "q1=[[1.83543079 2.54246378 1.41608669]]\n",
      "\n",
      "q2=[[1.12046437 1.75278063 1.37049824]]\n",
      "\n",
      "q3=[[1.41460816 1.86292883 1.08935068]]\n",
      "\n"
     ]
    }
   ],
   "source": [
    "# calculate the queries\n",
    "q1 = w1.T @ WQ\n",
    "q2 = w2.T @ WQ\n",
    "q3 = w3.T @ WQ\n",
    "print(f'q1={q1}\\n')\n",
    "print(f'q2={q2}\\n')\n",
    "print(f'q3={q3}\\n')"
   ]
  },
  {
   "cell_type": "code",
   "execution_count": 26,
   "id": "90a02aa5",
   "metadata": {},
   "outputs": [
    {
     "name": "stdout",
     "output_type": "stream",
     "text": [
      "k1=[[1.48388839 1.25307159 1.03924184]]\n",
      "\n",
      "k2=[[0.92618096 0.89467521 0.74465286]]\n",
      "\n",
      "k3=[[0.96537985 0.88234558 0.90763824]]\n",
      "\n"
     ]
    }
   ],
   "source": [
    "# calculate the keys\n",
    "k1 = w1.T @ WK\n",
    "k2 = w2.T @ WK\n",
    "k3 = w3.T @ WK\n",
    "print(f'k1={k1}\\n')\n",
    "print(f'k2={k2}\\n')\n",
    "print(f'k3={k3}\\n')"
   ]
  },
  {
   "cell_type": "code",
   "execution_count": 27,
   "id": "db6b0954",
   "metadata": {},
   "outputs": [
    {
     "name": "stdout",
     "output_type": "stream",
     "text": [
      "v1=[[1.51488588 1.98307858 1.20608688]]\n",
      "\n",
      "v2=[[1.23648669 1.59125405 0.9862142 ]]\n",
      "\n",
      "v3=[[1.30471031 1.67611786 0.86543065]]\n",
      "\n"
     ]
    }
   ],
   "source": [
    "# calculate values\n",
    "v1 = w1.T @ WV\n",
    "v2 = w2.T @ WV\n",
    "v3 = w3.T @ WV\n",
    "print(f'v1={v1}\\n')\n",
    "print(f'v2={v2}\\n')\n",
    "print(f'v3={v3}\\n')"
   ]
  },
  {
   "cell_type": "code",
   "execution_count": 28,
   "id": "b6ddd433",
   "metadata": {},
   "outputs": [
    {
     "name": "stdout",
     "output_type": "stream",
     "text": [
      "\n",
      "W=[[0.69453339 0.56874769 0.67876956 0.46420813 0.72690923]\n",
      " [0.45540857 0.74785557 0.81749043 0.28979171 0.03700459]\n",
      " [0.69380642 0.43719921 0.67627902 0.32564306 0.26195105]]\n",
      "\n"
     ]
    }
   ],
   "source": [
    "# matrix of word embeddings\n",
    "W = np.concatenate((w1,w2,w3), axis=1).T\n",
    "print(f'\\nW={W}\\n')"
   ]
  },
  {
   "cell_type": "code",
   "execution_count": 29,
   "id": "b12914bb",
   "metadata": {},
   "outputs": [
    {
     "name": "stdout",
     "output_type": "stream",
     "text": [
      "\n",
      "Q=[[1.83543079 2.54246378 1.41608669]\n",
      " [1.12046437 1.75278063 1.37049824]\n",
      " [1.41460816 1.86292883 1.08935068]]\n",
      "\n",
      "\n",
      "K=[[1.48388839 1.25307159 1.03924184]\n",
      " [0.92618096 0.89467521 0.74465286]\n",
      " [0.96537985 0.88234558 0.90763824]]\n",
      "\n",
      "\n",
      "V=[[1.51488588 1.98307858 1.20608688]\n",
      " [1.23648669 1.59125405 0.9862142 ]\n",
      " [1.30471031 1.67611786 0.86543065]]\n",
      "\n"
     ]
    }
   ],
   "source": [
    "# queries, keys and values all at once using matrix multiplication\n",
    "Q = W @ WQ\n",
    "K = W @ WK\n",
    "V = W @ WV\n",
    "print(f'\\nQ={Q}\\n')\n",
    "print(f'\\nK={K}\\n')\n",
    "print(f'\\nV={V}\\n')"
   ]
  },
  {
   "cell_type": "code",
   "execution_count": 30,
   "id": "2bf02993",
   "metadata": {},
   "outputs": [
    {
     "name": "stdout",
     "output_type": "stream",
     "text": [
      "\n",
      "attention=[[1.42834786 1.85912936 1.10401702]\n",
      " [1.40540313 1.82628689 1.07729048]\n",
      " [1.41006411 1.8329904  1.08321943]]\n",
      "\n"
     ]
    }
   ],
   "source": [
    "# output of the attention layer\n",
    "attention = softmax( (Q @ K.T) / np.sqrt(K.shape[1]), axis=1 ) @ V\n",
    "print(f'\\nattention={attention}\\n')"
   ]
  },
  {
   "cell_type": "markdown",
   "id": "d32ac42c",
   "metadata": {},
   "source": [
    "# multihead attention simulation"
   ]
  },
  {
   "cell_type": "code",
   "execution_count": 31,
   "id": "fdf2e08a",
   "metadata": {},
   "outputs": [],
   "source": [
    "# randomly initialize the projection matrices for each head\n",
    "WQ1 = np.random.rand(5,3)\n",
    "WK1 = np.random.rand(5,3)\n",
    "WV1 = np.random.rand(5,3)\n",
    "WQ2 = np.random.rand(5,3)\n",
    "WK2 = np.random.rand(5,3)\n",
    "WV2 = np.random.rand(5,3)\n",
    "WQ3 = np.random.rand(5,3)\n",
    "WK3 = np.random.rand(5,3)\n",
    "WV3 = np.random.rand(5,3)\n",
    "WQ4 = np.random.rand(5,3)\n",
    "WK4 = np.random.rand(5,3)\n",
    "WV4 = np.random.rand(5,3)"
   ]
  },
  {
   "cell_type": "code",
   "execution_count": 32,
   "id": "68c446fc",
   "metadata": {},
   "outputs": [],
   "source": [
    "# let's calculate queries, keys and values for each head\n",
    "Q1 = W @ WQ1\n",
    "Q2 = W @ WQ2\n",
    "Q3 = W @ WQ3\n",
    "Q4 = W @ WQ4\n",
    "\n",
    "K1 = W @ WK1\n",
    "K2 = W @ WK2\n",
    "K3 = W @ WK3\n",
    "K4 = W @ WK4\n",
    "\n",
    "V1 = W @ WV1\n",
    "V2 = W @ WV2\n",
    "V3 = W @ WV3\n",
    "V4 = W @ WV4"
   ]
  },
  {
   "cell_type": "code",
   "execution_count": 33,
   "id": "4b783d3e",
   "metadata": {},
   "outputs": [],
   "source": [
    "# attention from each head\n",
    "attention1 = softmax( (Q1 @ K1.T) / np.sqrt(K1.shape[1]), axis=1 ) @ V1\n",
    "attention2 = softmax( (Q2 @ K2.T) / np.sqrt(K2.shape[1]), axis=1 ) @ V2\n",
    "attention3 = softmax( (Q3 @ K3.T) / np.sqrt(K3.shape[1]), axis=1 ) @ V3\n",
    "attention4 = softmax( (Q4 @ K4.T) / np.sqrt(K4.shape[1]), axis=1 ) @ V4"
   ]
  },
  {
   "cell_type": "code",
   "execution_count": 34,
   "id": "5b23a577",
   "metadata": {},
   "outputs": [
    {
     "data": {
      "text/plain": [
       "(3, 12)"
      ]
     },
     "execution_count": 34,
     "metadata": {},
     "output_type": "execute_result"
    }
   ],
   "source": [
    "# concatenate all heads\n",
    "Z = np.concatenate((attention1,attention2,attention3,attention4), axis=1)\n",
    "Z.shape"
   ]
  },
  {
   "cell_type": "code",
   "execution_count": 35,
   "id": "e69c9816",
   "metadata": {},
   "outputs": [],
   "source": [
    "# multihead projection matrix\n",
    "WO = np.random.rand(Z.shape[1],3)"
   ]
  },
  {
   "cell_type": "code",
   "execution_count": 37,
   "id": "9f33ff11",
   "metadata": {},
   "outputs": [
    {
     "name": "stdout",
     "output_type": "stream",
     "text": [
      "\n",
      "multihead=[[8.8701854  9.01219884 8.6135078 ]\n",
      " [8.74879861 8.87606941 8.46771228]\n",
      " [8.74000155 8.87047045 8.47205605]]\n",
      "\n"
     ]
    }
   ],
   "source": [
    "# output of multihead attention\n",
    "multihead = Z @ WO\n",
    "print(f'\\nmultihead={multihead}\\n')"
   ]
  },
  {
   "cell_type": "code",
   "execution_count": null,
   "id": "cad1e03c",
   "metadata": {},
   "outputs": [],
   "source": []
  }
 ],
 "metadata": {
  "kernelspec": {
   "display_name": "Python 3 (ipykernel)",
   "language": "python",
   "name": "python3"
  },
  "language_info": {
   "codemirror_mode": {
    "name": "ipython",
    "version": 3
   },
   "file_extension": ".py",
   "mimetype": "text/x-python",
   "name": "python",
   "nbconvert_exporter": "python",
   "pygments_lexer": "ipython3",
   "version": "3.9.13"
  }
 },
 "nbformat": 4,
 "nbformat_minor": 5
}

{
 "cells": [
  {
   "cell_type": "code",
   "execution_count": 10,
   "id": "9a0945fb",
   "metadata": {},
   "outputs": [],
   "source": [
    "import random\n",
    "import sys\n",
    "import numpy as np\n",
    "from tensorflow import keras\n",
    "from tensorflow.keras import layers"
   ]
  },
  {
   "cell_type": "code",
   "execution_count": 2,
   "id": "d4f70c02",
   "metadata": {},
   "outputs": [
    {
     "name": "stdout",
     "output_type": "stream",
     "text": [
      "Downloading data from https://s3.amazonaws.com/text-datasets/nietzsche.txt\n",
      "600901/600901 [==============================] - 0s 1us/step\n"
     ]
    }
   ],
   "source": [
    "path = keras.utils.get_file(\n",
    "    'nietzsche.txt',\n",
    "    origin='https://s3.amazonaws.com/text-datasets/nietzsche.txt')"
   ]
  },
  {
   "cell_type": "code",
   "execution_count": 3,
   "id": "0a261e57",
   "metadata": {},
   "outputs": [
    {
     "name": "stdout",
     "output_type": "stream",
     "text": [
      "Corpus length: 600893\n"
     ]
    }
   ],
   "source": [
    "text = open(path).read().lower()\n",
    "print(f'Corpus length: {len(text)}')"
   ]
  },
  {
   "cell_type": "code",
   "execution_count": 4,
   "id": "dfaec947",
   "metadata": {},
   "outputs": [
    {
     "name": "stdout",
     "output_type": "stream",
     "text": [
      "Number of sequences: 200278\n",
      "Unique characters: 57\n",
      "Vectorization...\n"
     ]
    },
    {
     "name": "stderr",
     "output_type": "stream",
     "text": [
      "/tmp/ipykernel_4207/2588542983.py:16: DeprecationWarning: `np.bool` is a deprecated alias for the builtin `bool`. To silence this warning, use `bool` by itself. Doing this will not modify any behavior and is safe. If you specifically wanted the numpy scalar type, use `np.bool_` here.\n",
      "Deprecated in NumPy 1.20; for more details and guidance: https://numpy.org/devdocs/release/1.20.0-notes.html#deprecations\n",
      "  x = np.zeros((len(sentences), maxlen, len(chars)), dtype=np.bool)\n",
      "/tmp/ipykernel_4207/2588542983.py:17: DeprecationWarning: `np.bool` is a deprecated alias for the builtin `bool`. To silence this warning, use `bool` by itself. Doing this will not modify any behavior and is safe. If you specifically wanted the numpy scalar type, use `np.bool_` here.\n",
      "Deprecated in NumPy 1.20; for more details and guidance: https://numpy.org/devdocs/release/1.20.0-notes.html#deprecations\n",
      "  y = np.zeros((len(sentences), len(chars)), dtype=np.bool)\n"
     ]
    }
   ],
   "source": [
    "maxlen = 60\n",
    "step = 3\n",
    "\n",
    "sentences = []\n",
    "next_chars = []\n",
    "for i in range(0, len(text) - maxlen, step):\n",
    "    sentences.append(text[i: i + maxlen])\n",
    "    next_chars.append(text[i + maxlen])\n",
    "print('Number of sequences:', len(sentences))\n",
    "\n",
    "chars = sorted(list(set(text)))\n",
    "print('Unique characters:', len(chars))\n",
    "char_indices = dict((char, chars.index(char)) for char in chars)\n",
    "\n",
    "print('Vectorization...')\n",
    "x = np.zeros((len(sentences), maxlen, len(chars)), dtype=np.bool)\n",
    "y = np.zeros((len(sentences), len(chars)), dtype=np.bool)\n",
    "for i, sentence in enumerate(sentences):\n",
    "    for t, char in enumerate(sentence):\n",
    "        x[i, t, char_indices[char]] = 1\n",
    "    y[i, char_indices[next_chars[i]]] = 1"
   ]
  },
  {
   "cell_type": "code",
   "execution_count": 7,
   "id": "47399e17",
   "metadata": {},
   "outputs": [
    {
     "name": "stdout",
     "output_type": "stream",
     "text": [
      "Model: \"sequential_1\"\n",
      "_________________________________________________________________\n",
      " Layer (type)                Output Shape              Param #   \n",
      "=================================================================\n",
      " lstm_1 (LSTM)               (None, 128)               95232     \n",
      "                                                                 \n",
      " dense_1 (Dense)             (None, 57)                7353      \n",
      "                                                                 \n",
      "=================================================================\n",
      "Total params: 102,585\n",
      "Trainable params: 102,585\n",
      "Non-trainable params: 0\n",
      "_________________________________________________________________\n"
     ]
    }
   ],
   "source": [
    "model = keras.models.Sequential()\n",
    "model.add(layers.LSTM(128, input_shape=(maxlen, len(chars))))\n",
    "model.add(layers.Dense(len(chars), activation='softmax'))\n",
    "model.summary()"
   ]
  },
  {
   "cell_type": "code",
   "execution_count": 8,
   "id": "e38c9375",
   "metadata": {},
   "outputs": [
    {
     "name": "stderr",
     "output_type": "stream",
     "text": [
      "/home/rmaia/miniconda3/envs/dim0494/lib/python3.9/site-packages/keras/optimizers/optimizer_v2/rmsprop.py:140: UserWarning: The `lr` argument is deprecated, use `learning_rate` instead.\n",
      "  super().__init__(name, **kwargs)\n"
     ]
    }
   ],
   "source": [
    "optimizer = keras.optimizers.RMSprop(lr=0.01)\n",
    "model.compile(loss='categorical_crossentropy', optimizer=optimizer)"
   ]
  },
  {
   "cell_type": "code",
   "execution_count": 9,
   "id": "90e176ea",
   "metadata": {},
   "outputs": [],
   "source": [
    "def sample(preds, temperature=1.0):\n",
    "    preds = np.asarray(preds).astype('float64')\n",
    "    preds = np.log(preds) / temperature\n",
    "    exp_preds = np.exp(preds)\n",
    "    preds = exp_preds / np.sum(exp_preds)\n",
    "    probas = np.random.multinomial(1, preds, 1)\n",
    "    return np.argmax(probas)"
   ]
  },
  {
   "cell_type": "code",
   "execution_count": 11,
   "id": "a500419a",
   "metadata": {},
   "outputs": [
    {
     "name": "stdout",
     "output_type": "stream",
     "text": [
      "epoch 1\n"
     ]
    },
    {
     "name": "stderr",
     "output_type": "stream",
     "text": [
      "2022-11-03 11:02:19.850576: I tensorflow/stream_executor/cuda/cuda_dnn.cc:384] Loaded cuDNN version 8100\n"
     ]
    },
    {
     "name": "stdout",
     "output_type": "stream",
     "text": [
      "1565/1565 [==============================] - 13s 7ms/step - loss: 1.9711\n",
      "\n",
      "--- Generating with seed: ationship, resulting in a mutual interest, a sort of allianc ------\n",
      "\n",
      "\n",
      "------ temperature: 0.2 ------\n",
      "\n",
      "ationship, resulting in a mutual interest, a sort of alliance of the science of the the propection and string the man in the such a selfestic and the present in the such a man in the such a such a man intere concestions and destreation of the such a some intere all the such the man in the concession of the such a man, and string--the propection and the mankind in the such a man in the such a man in the are came and the precises the intere stinct of the pro\n",
      "------ temperature: 0.5 ------\n",
      "\n",
      "n the are came and the precises the intere stinct of the propection with thought is the sum the not in the extress of aster to the intentence with the the prepistion as which it is its light\n",
      "of the not the him the presires as a menders in the heart the exiren a man in the profuct its the strences of philosophysic. the gree the art of the itself have the genies perioric discleatic some concestipal more we kning and deverifically the desires in the preained \n",
      "------ temperature: 1.0 ------\n",
      "\n",
      "more we kning and deverifically the desires in the preained the mivor itsided, \"the rans indef they suderogress quettissed on pardming conscitromet which disprobless,\n",
      "where xselt\n",
      "adtisgicns, all fair\n",
      "plaats, do -soct we ihation the fanssory,\" wes to their bristeng higherscood, but sot takes not \"taking\n",
      "aghild inind\n",
      "the charalitic. it is, owicay for evills. buths\n",
      "most \"but\n",
      "had know pritced socn arisence.\n",
      "\n",
      "\n",
      "k. the chear dotfy in they the simple.--we claster \n",
      "------ temperature: 1.2 ------\n",
      "\n",
      "sence.\n",
      "\n",
      "\n",
      "k. the chear dotfy in they the simple.--we claster peat togium are erfing as times forter agacn dotreistications now rolititical mestevacjes very the\n",
      "gever you\n",
      "f\n",
      "it mift--they-jusgmatal every.--the firmind-warus evpry as the well gews7e peli-.\"\n",
      "bs the reble\n",
      "to curcicnorred a me, howens, at new has knews to as ploosus, and wher all ffol\n",
      "s\n",
      "regajes, sung) it utcerisss, the. not philosophics ro\n",
      "thriringest, and elrous postilusy--with\n",
      "these will debed epoch 2\n",
      "1565/1565 [==============================] - 11s 7ms/step - loss: 1.6166\n",
      "\n",
      "--- Generating with seed: -at the sight of a water fall we may opine that in the\n",
      "count ------\n",
      "\n",
      "\n",
      "------ temperature: 0.2 ------\n",
      "\n",
      "-at the sight of a water fall we may opine that in the\n",
      "counted the minds to the higher and destrust the man in the will only and superficiality of the suffering of the suffering of the real such the strive only and destrust the comparned that is not only and contention of the stine of the provous to distonce of the man and destrust and mankind of the man and one has destrust of the strive in the most and disposed to the mind of the will only of the strine \n",
      "------ temperature: 0.5 ------\n",
      "\n",
      "ost and disposed to the mind of the will only of the strine their respect from the internine, one comparnated exertion of highest the highett and the compress to our posses of the again the according of the bescountion of the false which one ligeties of such the sense of precisely protounders of the highest and nothing one we is the men men to be sense of all and readon provandent, and man with and extent of the misting to necessary in the present with the\n",
      "------ temperature: 1.0 ------\n",
      "\n",
      "d extent of the misting to necessary in the present with the world: be-benaughinded which is in estimed and wooding of \n",
      "e'e, aublething of account, at on, veren the has the deadon of ittignw's did about f he implior, that you\n",
      "gedition. the heart\n",
      "opponinance, yepes what suppition without\n",
      "oble e: we impasn the end regaikly can of like the engen animan, also they their seniiston man is goy therey without one rale tod so have light\n",
      "of good them to laves wouak \n",
      "------ temperature: 1.2 ------\n",
      "\n",
      "hout one rale tod so have light\n",
      "of good them to laves wouak some iminiyaliar of gurnine ownifeityicted witho: surty recaind other\n",
      "was if longer with tuetef a \"mask injucugive e oppion, onl one\n",
      "ensentated ineytypres moriny\n",
      "real--agr voment, othen wolli'se metaphygiou.\n",
      "; a could the ibran a posplucion of sympathtrams blated who rateri without, it hauthoutopi.u, friest b1ot\n",
      "that, the \"exjectsm, olimifices with,, (are a morely with a sto, extent being has tokeepoch 3\n",
      "1565/1565 [==============================] - 11s 7ms/step - loss: 1.5267\n",
      "\n",
      "--- Generating with seed:  organization, and equally worthy of admiration as\n",
      "the resul ------\n",
      "\n",
      "\n",
      "------ temperature: 0.2 ------\n",
      "\n",
      " organization, and equally worthy of admiration as\n",
      "the result of the provess of the present to the fact of the properially to the profound some the properious to the the sense of the constronces of the superiors of the constrant the state of the proves of the profound to the moral more the trate of the propect of the properially to the faith and the provess of the conscience of the morality of the moral profound and consciences and constraint of the worth \n",
      "------ temperature: 0.5 ------\n",
      "\n",
      " moral profound and consciences and constraint of the worth of responsibility in the action is a things and the does not proves much which as made the fath as the decersed of the rully petically the prosesss of really in the really the sensed of the form and to the whole the form in the world in the sufferilition of the moral as the same religious last for of the fath and construmences and provess of the edevilised and at to respicitudianity to all the pro\n",
      "------ temperature: 1.0 ------\n",
      "\n",
      " of the edevilised and at to respicitudianity to all the proforition, we namefnitious and dungurative to \"him. makes of excally mataper may be\n",
      "indeed, who\n",
      "the mears exception to distrustic,--- ctrag? of the billow only would germant-ejectur and choters and wosless fool.\n",
      "\n",
      "fol in from stanps and abseed po result-likewhes to be lightly of\n",
      "a formory ey so helpmonicy. but verve all prudescies stishs of coristimations of a morals and before or represent, that is\n",
      "------ temperature: 1.2 ------\n",
      "\n",
      " coristimations of a morals and before or represent, that isnoually seem however lones of symplom,y, generat, whood he reeponful bil). and ary obvernes which wisuon \"hidseliesn itself fonctotical dorbsceisly etious\n",
      "whonos abil origin, a asnesaimed not a\n",
      "\" profected osrent\n",
      "is himselflast and\n",
      "s.ul as dongeedn and bas\"?mung--that troy they beartt--only too; teles revelped upon just what\n",
      "haspy-inde lone a\n",
      "wissedes\n",
      "pressiply to bavalers more anshed nom\n",
      "allowersepoch 4\n",
      "1565/1565 [==============================] - 11s 7ms/step - loss: 1.4822\n",
      "\n",
      "--- Generating with seed: prehension thereof: this, indeed, he really does through\n",
      "sci ------\n",
      "\n",
      "\n",
      "------ temperature: 0.2 ------\n",
      "\n",
      "prehension thereof: this, indeed, he really does through\n",
      "science, the present the strength the preacher the strength of the powerful sense of the present to the present the men the strength the moral the men whom the strength and the men to the men the strength the strength of the part of the man and here the strength, and the present of the fact of the moral and the strenge the stome of the strength the strength of the preacher the moral the philosopher w\n",
      "------ temperature: 0.5 ------\n",
      "\n",
      "gth the strength of the preacher the moral the philosopher will the defining, and becomes be love of the string of the definion world powerful and world to the power the consideration, their always the mentificious must be the being the mistredence because of seciety and the proposing the said and of the powerful and the man and whom the bad everything and the profounde of its read of the man world of the more serious everything that one of under to be som\n",
      "------ temperature: 1.0 ------\n",
      "\n",
      "d of the more serious everything that one of under to be some sovering to the possible of his altively the double, chrings with religious to rearing, and agta, to in comparian ognicical\n",
      "pbilweld of maints, and at the higher he!\n",
      "\n",
      "\n",
      "1vinnatioy\n",
      "of in, and perhaps ascomes now basile actually scholar, borded,\n",
      "\"this christingy exparie becomed of mankind, (bad fear is science and discrersent in aequerained over oney, here for vaye all dose of relations of has scre\n",
      "------ temperature: 1.2 ------\n",
      "\n"
     ]
    },
    {
     "name": "stdout",
     "output_type": "stream",
     "text": [
      "d over oney, here for vaye all dose of relations of has screading always, with the part may a comes mo eurom tower peoplereate,\" and stitiouman shotaks becauses so thrine by its vilt, awandly, or go ruriound, attestem, embleaveringical is ith cater by grounde.c\"--before thesele tmings\" lewlary,\n",
      "the\n",
      "vigws on men and ffor the dispants\" do not casedo-y and new\n",
      "cluse\n",
      "without mevent for those phisonomer, without\n",
      "taste. heaght to the batious fare and amgain\n",
      "seed"
     ]
    }
   ],
   "source": [
    "for epoch in range(1, 5):\n",
    "    \n",
    "    print(f'********* ****** EPOCH: {epoch} *****************\\n')\n",
    "    model.fit(x, y, batch_size=128, epochs=1)\n",
    "    start_index = random.randint(0, len(text) - maxlen - 1)\n",
    "    generated_text = text[start_index: start_index + maxlen]\n",
    "    print(f'\\n\\n--- Generating with seed: {generated_text} ------\\n\\n')\n",
    "    \n",
    "    for temperature in [0.2, 0.5, 1.0, 1.2]:\n",
    "        print(f'\\n\\n------ temperature: {temperature} ------\\n')\n",
    "        sys.stdout.write(generated_text)\n",
    "        \n",
    "        for i in range(400):\n",
    "            \n",
    "            sampled = np.zeros((1, maxlen, len(chars)))\n",
    "            for t, char in enumerate(generated_text):\n",
    "                sampled[0, t, char_indices[char]] = 1.\n",
    "            preds = model.predict(sampled, verbose=0)[0]\n",
    "            next_index = sample(preds, temperature)\n",
    "            next_char = chars[next_index]\n",
    "            generated_text += next_char\n",
    "            generated_text = generated_text[1:]\n",
    "            sys.stdout.write(next_char)"
   ]
  },
  {
   "cell_type": "code",
   "execution_count": null,
   "id": "602958ab",
   "metadata": {},
   "outputs": [],
   "source": []
  }
 ],
 "metadata": {
  "kernelspec": {
   "display_name": "Python 3 (ipykernel)",
   "language": "python",
   "name": "python3"
  },
  "language_info": {
   "codemirror_mode": {
    "name": "ipython",
    "version": 3
   },
   "file_extension": ".py",
   "mimetype": "text/x-python",
   "name": "python",
   "nbconvert_exporter": "python",
   "pygments_lexer": "ipython3",
   "version": "3.9.13"
  }
 },
 "nbformat": 4,
 "nbformat_minor": 5
}

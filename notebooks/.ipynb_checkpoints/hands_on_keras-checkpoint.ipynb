{
 "cells": [
  {
   "cell_type": "code",
   "execution_count": 1,
   "id": "fcf21ddb",
   "metadata": {},
   "outputs": [
    {
     "name": "stderr",
     "output_type": "stream",
     "text": [
      "2022-09-07 22:38:57.952872: I tensorflow/stream_executor/platform/default/dso_loader.cc:49] Successfully opened dynamic library libcudart.so.10.1\n"
     ]
    }
   ],
   "source": [
    "# load libraries\n",
    "from sklearn.metrics import accuracy_score,classification_report\n",
    "import numpy as np\n",
    "import matplotlib.pyplot as plt\n",
    "from sklearn import svm\n",
    "from tensorflow import keras\n",
    "from tensorflow.keras import layers"
   ]
  },
  {
   "cell_type": "code",
   "execution_count": 2,
   "id": "7515b454",
   "metadata": {},
   "outputs": [],
   "source": [
    "# Load the data and split it between train and test sets\n",
    "(X_train, y_train), (X_test, y_test) = keras.datasets.mnist.load_data()"
   ]
  },
  {
   "cell_type": "code",
   "execution_count": 3,
   "id": "3380a0a7",
   "metadata": {},
   "outputs": [],
   "source": [
    "# Model / data parameters\n",
    "num_classes = 10\n",
    "input_shape = (28, 28, 1)"
   ]
  },
  {
   "cell_type": "markdown",
   "id": "416c6c5b",
   "metadata": {},
   "source": [
    "# pré-processamento de dados"
   ]
  },
  {
   "cell_type": "code",
   "execution_count": 4,
   "id": "6af0077e",
   "metadata": {},
   "outputs": [
    {
     "name": "stdout",
     "output_type": "stream",
     "text": [
      "X_train shape: (60000, 28, 28, 1)\n",
      "60000 train samples\n",
      "10000 test samples\n"
     ]
    }
   ],
   "source": [
    "# Scale images to the [0, 1] range\n",
    "X_train = X_train.astype(\"float32\") / 255\n",
    "X_test = X_test.astype(\"float32\") / 255\n",
    "\n",
    "# Make sure images have shape (28, 28, 1)\n",
    "X_train = np.expand_dims(X_train, -1)\n",
    "X_test = np.expand_dims(X_test, -1)\n",
    "print(\"X_train shape:\", X_train.shape)\n",
    "print(X_train.shape[0], \"train samples\")\n",
    "print(X_test.shape[0], \"test samples\")"
   ]
  },
  {
   "cell_type": "code",
   "execution_count": 5,
   "id": "0b216c6c",
   "metadata": {},
   "outputs": [
    {
     "name": "stdout",
     "output_type": "stream",
     "text": [
      "y_train shape: (60000, 10)\n"
     ]
    }
   ],
   "source": [
    "# convert class vectors to binary class matrices\n",
    "y_train = keras.utils.to_categorical(y_train, num_classes)\n",
    "y_test = keras.utils.to_categorical(y_test, num_classes)\n",
    "print(\"y_train shape:\", y_train.shape)"
   ]
  },
  {
   "cell_type": "markdown",
   "id": "5d86f054",
   "metadata": {},
   "source": [
    "# Construção do modelo"
   ]
  },
  {
   "cell_type": "code",
   "execution_count": 6,
   "id": "1e351fdf",
   "metadata": {},
   "outputs": [
    {
     "name": "stdout",
     "output_type": "stream",
     "text": [
      "Model: \"sequential\"\n",
      "_________________________________________________________________\n",
      "Layer (type)                 Output Shape              Param #   \n",
      "=================================================================\n",
      "conv2d (Conv2D)              (None, 26, 26, 32)        320       \n",
      "_________________________________________________________________\n",
      "max_pooling2d (MaxPooling2D) (None, 13, 13, 32)        0         \n",
      "_________________________________________________________________\n",
      "conv2d_1 (Conv2D)            (None, 11, 11, 64)        18496     \n",
      "_________________________________________________________________\n",
      "max_pooling2d_1 (MaxPooling2 (None, 5, 5, 64)          0         \n",
      "_________________________________________________________________\n",
      "flatten (Flatten)            (None, 1600)              0         \n",
      "_________________________________________________________________\n",
      "dropout (Dropout)            (None, 1600)              0         \n",
      "_________________________________________________________________\n",
      "dense (Dense)                (None, 10)                16010     \n",
      "=================================================================\n",
      "Total params: 34,826\n",
      "Trainable params: 34,826\n",
      "Non-trainable params: 0\n",
      "_________________________________________________________________\n"
     ]
    },
    {
     "name": "stderr",
     "output_type": "stream",
     "text": [
      "2022-09-07 22:39:07.148907: I tensorflow/compiler/jit/xla_cpu_device.cc:41] Not creating XLA devices, tf_xla_enable_xla_devices not set\n",
      "2022-09-07 22:39:07.149369: I tensorflow/stream_executor/platform/default/dso_loader.cc:49] Successfully opened dynamic library libcuda.so.1\n",
      "2022-09-07 22:39:08.076875: I tensorflow/stream_executor/cuda/cuda_gpu_executor.cc:941] successful NUMA node read from SysFS had negative value (-1), but there must be at least one NUMA node, so returning NUMA node zero\n",
      "2022-09-07 22:39:08.077235: I tensorflow/core/common_runtime/gpu/gpu_device.cc:1720] Found device 0 with properties: \n",
      "pciBusID: 0000:01:00.0 name: TITAN V computeCapability: 7.0\n",
      "coreClock: 1.455GHz coreCount: 80 deviceMemorySize: 11.78GiB deviceMemoryBandwidth: 607.97GiB/s\n",
      "2022-09-07 22:39:08.077282: I tensorflow/stream_executor/cuda/cuda_gpu_executor.cc:941] successful NUMA node read from SysFS had negative value (-1), but there must be at least one NUMA node, so returning NUMA node zero\n",
      "2022-09-07 22:39:08.077539: I tensorflow/core/common_runtime/gpu/gpu_device.cc:1720] Found device 1 with properties: \n",
      "pciBusID: 0000:02:00.0 name: GeForce RTX 2060 SUPER computeCapability: 7.5\n",
      "coreClock: 1.71GHz coreCount: 34 deviceMemorySize: 7.79GiB deviceMemoryBandwidth: 417.29GiB/s\n",
      "2022-09-07 22:39:08.077556: I tensorflow/stream_executor/platform/default/dso_loader.cc:49] Successfully opened dynamic library libcudart.so.10.1\n",
      "2022-09-07 22:39:08.078530: I tensorflow/stream_executor/platform/default/dso_loader.cc:49] Successfully opened dynamic library libcublas.so.10\n",
      "2022-09-07 22:39:08.078555: I tensorflow/stream_executor/platform/default/dso_loader.cc:49] Successfully opened dynamic library libcublasLt.so.10\n",
      "2022-09-07 22:39:08.079427: I tensorflow/stream_executor/platform/default/dso_loader.cc:49] Successfully opened dynamic library libcufft.so.10\n",
      "2022-09-07 22:39:08.079567: I tensorflow/stream_executor/platform/default/dso_loader.cc:49] Successfully opened dynamic library libcurand.so.10\n",
      "2022-09-07 22:39:08.080490: I tensorflow/stream_executor/platform/default/dso_loader.cc:49] Successfully opened dynamic library libcusolver.so.10\n",
      "2022-09-07 22:39:08.081005: I tensorflow/stream_executor/platform/default/dso_loader.cc:49] Successfully opened dynamic library libcusparse.so.10\n",
      "2022-09-07 22:39:08.082940: I tensorflow/stream_executor/platform/default/dso_loader.cc:49] Successfully opened dynamic library libcudnn.so.7\n",
      "2022-09-07 22:39:08.083003: I tensorflow/stream_executor/cuda/cuda_gpu_executor.cc:941] successful NUMA node read from SysFS had negative value (-1), but there must be at least one NUMA node, so returning NUMA node zero\n",
      "2022-09-07 22:39:08.083372: I tensorflow/stream_executor/cuda/cuda_gpu_executor.cc:941] successful NUMA node read from SysFS had negative value (-1), but there must be at least one NUMA node, so returning NUMA node zero\n",
      "2022-09-07 22:39:08.083667: I tensorflow/stream_executor/cuda/cuda_gpu_executor.cc:941] successful NUMA node read from SysFS had negative value (-1), but there must be at least one NUMA node, so returning NUMA node zero\n",
      "2022-09-07 22:39:08.084049: I tensorflow/stream_executor/cuda/cuda_gpu_executor.cc:941] successful NUMA node read from SysFS had negative value (-1), but there must be at least one NUMA node, so returning NUMA node zero\n",
      "2022-09-07 22:39:08.084270: I tensorflow/core/common_runtime/gpu/gpu_device.cc:1862] Adding visible gpu devices: 0, 1\n",
      "2022-09-07 22:39:08.084776: I tensorflow/core/platform/cpu_feature_guard.cc:142] This TensorFlow binary is optimized with oneAPI Deep Neural Network Library (oneDNN) to use the following CPU instructions in performance-critical operations:  SSE4.1 SSE4.2 AVX AVX2 FMA\n",
      "To enable them in other operations, rebuild TensorFlow with the appropriate compiler flags.\n",
      "2022-09-07 22:39:08.085705: I tensorflow/compiler/jit/xla_gpu_device.cc:99] Not creating XLA devices, tf_xla_enable_xla_devices not set\n",
      "2022-09-07 22:39:08.176742: I tensorflow/stream_executor/cuda/cuda_gpu_executor.cc:941] successful NUMA node read from SysFS had negative value (-1), but there must be at least one NUMA node, so returning NUMA node zero\n",
      "2022-09-07 22:39:08.177051: I tensorflow/core/common_runtime/gpu/gpu_device.cc:1720] Found device 0 with properties: \n",
      "pciBusID: 0000:01:00.0 name: TITAN V computeCapability: 7.0\n",
      "coreClock: 1.455GHz coreCount: 80 deviceMemorySize: 11.78GiB deviceMemoryBandwidth: 607.97GiB/s\n",
      "2022-09-07 22:39:08.177110: I tensorflow/stream_executor/cuda/cuda_gpu_executor.cc:941] successful NUMA node read from SysFS had negative value (-1), but there must be at least one NUMA node, so returning NUMA node zero\n",
      "2022-09-07 22:39:08.177339: I tensorflow/core/common_runtime/gpu/gpu_device.cc:1720] Found device 1 with properties: \n",
      "pciBusID: 0000:02:00.0 name: GeForce RTX 2060 SUPER computeCapability: 7.5\n",
      "coreClock: 1.71GHz coreCount: 34 deviceMemorySize: 7.79GiB deviceMemoryBandwidth: 417.29GiB/s\n",
      "2022-09-07 22:39:08.177363: I tensorflow/stream_executor/platform/default/dso_loader.cc:49] Successfully opened dynamic library libcudart.so.10.1\n",
      "2022-09-07 22:39:08.177378: I tensorflow/stream_executor/platform/default/dso_loader.cc:49] Successfully opened dynamic library libcublas.so.10\n",
      "2022-09-07 22:39:08.177390: I tensorflow/stream_executor/platform/default/dso_loader.cc:49] Successfully opened dynamic library libcublasLt.so.10\n",
      "2022-09-07 22:39:08.177402: I tensorflow/stream_executor/platform/default/dso_loader.cc:49] Successfully opened dynamic library libcufft.so.10\n",
      "2022-09-07 22:39:08.177413: I tensorflow/stream_executor/platform/default/dso_loader.cc:49] Successfully opened dynamic library libcurand.so.10\n",
      "2022-09-07 22:39:08.177425: I tensorflow/stream_executor/platform/default/dso_loader.cc:49] Successfully opened dynamic library libcusolver.so.10\n",
      "2022-09-07 22:39:08.177437: I tensorflow/stream_executor/platform/default/dso_loader.cc:49] Successfully opened dynamic library libcusparse.so.10\n",
      "2022-09-07 22:39:08.177449: I tensorflow/stream_executor/platform/default/dso_loader.cc:49] Successfully opened dynamic library libcudnn.so.7\n",
      "2022-09-07 22:39:08.177483: I tensorflow/stream_executor/cuda/cuda_gpu_executor.cc:941] successful NUMA node read from SysFS had negative value (-1), but there must be at least one NUMA node, so returning NUMA node zero\n",
      "2022-09-07 22:39:08.177793: I tensorflow/stream_executor/cuda/cuda_gpu_executor.cc:941] successful NUMA node read from SysFS had negative value (-1), but there must be at least one NUMA node, so returning NUMA node zero\n",
      "2022-09-07 22:39:08.178043: I tensorflow/stream_executor/cuda/cuda_gpu_executor.cc:941] successful NUMA node read from SysFS had negative value (-1), but there must be at least one NUMA node, so returning NUMA node zero\n",
      "2022-09-07 22:39:08.178348: I tensorflow/stream_executor/cuda/cuda_gpu_executor.cc:941] successful NUMA node read from SysFS had negative value (-1), but there must be at least one NUMA node, so returning NUMA node zero\n",
      "2022-09-07 22:39:08.178572: I tensorflow/core/common_runtime/gpu/gpu_device.cc:1862] Adding visible gpu devices: 0, 1\n",
      "2022-09-07 22:39:08.178595: I tensorflow/stream_executor/platform/default/dso_loader.cc:49] Successfully opened dynamic library libcudart.so.10.1\n",
      "2022-09-07 22:39:08.756221: I tensorflow/core/common_runtime/gpu/gpu_device.cc:1261] Device interconnect StreamExecutor with strength 1 edge matrix:\n",
      "2022-09-07 22:39:08.756243: I tensorflow/core/common_runtime/gpu/gpu_device.cc:1267]      0 1 \n",
      "2022-09-07 22:39:08.756247: I tensorflow/core/common_runtime/gpu/gpu_device.cc:1280] 0:   N N \n",
      "2022-09-07 22:39:08.756249: I tensorflow/core/common_runtime/gpu/gpu_device.cc:1280] 1:   N N \n",
      "2022-09-07 22:39:08.756416: I tensorflow/stream_executor/cuda/cuda_gpu_executor.cc:941] successful NUMA node read from SysFS had negative value (-1), but there must be at least one NUMA node, so returning NUMA node zero\n",
      "2022-09-07 22:39:08.756771: I tensorflow/stream_executor/cuda/cuda_gpu_executor.cc:941] successful NUMA node read from SysFS had negative value (-1), but there must be at least one NUMA node, so returning NUMA node zero\n",
      "2022-09-07 22:39:08.757043: I tensorflow/stream_executor/cuda/cuda_gpu_executor.cc:941] successful NUMA node read from SysFS had negative value (-1), but there must be at least one NUMA node, so returning NUMA node zero\n",
      "2022-09-07 22:39:08.757375: I tensorflow/stream_executor/cuda/cuda_gpu_executor.cc:941] successful NUMA node read from SysFS had negative value (-1), but there must be at least one NUMA node, so returning NUMA node zero\n",
      "2022-09-07 22:39:08.757690: I tensorflow/core/common_runtime/gpu/gpu_device.cc:1406] Created TensorFlow device (/job:localhost/replica:0/task:0/device:GPU:0 with 10905 MB memory) -> physical GPU (device: 0, name: TITAN V, pci bus id: 0000:01:00.0, compute capability: 7.0)\n",
      "2022-09-07 22:39:08.757910: I tensorflow/stream_executor/cuda/cuda_gpu_executor.cc:941] successful NUMA node read from SysFS had negative value (-1), but there must be at least one NUMA node, so returning NUMA node zero\n",
      "2022-09-07 22:39:08.758183: I tensorflow/stream_executor/cuda/cuda_gpu_executor.cc:941] successful NUMA node read from SysFS had negative value (-1), but there must be at least one NUMA node, so returning NUMA node zero\n",
      "2022-09-07 22:39:08.758418: I tensorflow/core/common_runtime/gpu/gpu_device.cc:1406] Created TensorFlow device (/job:localhost/replica:0/task:0/device:GPU:1 with 7273 MB memory) -> physical GPU (device: 1, name: GeForce RTX 2060 SUPER, pci bus id: 0000:02:00.0, compute capability: 7.5)\n"
     ]
    }
   ],
   "source": [
    "model = keras.Sequential(\n",
    "    [\n",
    "        keras.Input(shape=input_shape),\n",
    "        layers.Conv2D(32, kernel_size=(3, 3), activation=\"relu\"),\n",
    "        layers.MaxPooling2D(pool_size=(2, 2)),\n",
    "        layers.Conv2D(64, kernel_size=(3, 3), activation=\"relu\"),\n",
    "        layers.MaxPooling2D(pool_size=(2, 2)),\n",
    "        layers.Flatten(),\n",
    "        layers.Dropout(0.5),\n",
    "        layers.Dense(num_classes, activation=\"softmax\"),\n",
    "    ]\n",
    ")\n",
    "\n",
    "model.summary()"
   ]
  },
  {
   "cell_type": "markdown",
   "id": "5ba50fb5",
   "metadata": {},
   "source": [
    "# Treinamento do modelo"
   ]
  },
  {
   "cell_type": "code",
   "execution_count": null,
   "id": "27181885",
   "metadata": {},
   "outputs": [
    {
     "name": "stderr",
     "output_type": "stream",
     "text": [
      "2022-09-07 22:39:42.802570: I tensorflow/compiler/mlir/mlir_graph_optimization_pass.cc:116] None of the MLIR optimization passes are enabled (registered 2)\n",
      "2022-09-07 22:39:42.820223: I tensorflow/core/platform/profile_utils/cpu_utils.cc:112] CPU Frequency: 3600000000 Hz\n"
     ]
    },
    {
     "name": "stdout",
     "output_type": "stream",
     "text": [
      "Epoch 1/30\n"
     ]
    },
    {
     "name": "stderr",
     "output_type": "stream",
     "text": [
      "2022-09-07 22:39:43.067645: I tensorflow/stream_executor/platform/default/dso_loader.cc:49] Successfully opened dynamic library libcublas.so.10\n",
      "2022-09-07 22:39:43.197058: I tensorflow/stream_executor/platform/default/dso_loader.cc:49] Successfully opened dynamic library libcudnn.so.7\n"
     ]
    },
    {
     "name": "stdout",
     "output_type": "stream",
     "text": [
      "422/422 [==============================] - 4s 7ms/step - loss: 0.7569 - accuracy: 0.7647 - val_loss: 0.0834 - val_accuracy: 0.9772\n",
      "Epoch 2/30\n",
      "422/422 [==============================] - ETA: 0s - loss: 0.1228 - accuracy: 0.96 - 3s 6ms/step - loss: 0.1228 - accuracy: 0.9612 - val_loss: 0.0562 - val_accuracy: 0.9852\n",
      "Epoch 3/30\n",
      "422/422 [==============================] - 2s 5ms/step - loss: 0.0864 - accuracy: 0.9740 - val_loss: 0.0489 - val_accuracy: 0.9863\n",
      "Epoch 4/30\n",
      "422/422 [==============================] - 3s 6ms/step - loss: 0.0754 - accuracy: 0.9758 - val_loss: 0.0420 - val_accuracy: 0.9882\n",
      "Epoch 5/30\n",
      "422/422 [==============================] - 3s 6ms/step - loss: 0.0648 - accuracy: 0.9788 - val_loss: 0.0395 - val_accuracy: 0.9895\n",
      "Epoch 6/30\n",
      "422/422 [==============================] - 2s 5ms/step - loss: 0.0587 - accuracy: 0.9816 - val_loss: 0.0377 - val_accuracy: 0.9895\n",
      "Epoch 7/30\n",
      "422/422 [==============================] - 2s 6ms/step - loss: 0.0520 - accuracy: 0.9840 - val_loss: 0.0336 - val_accuracy: 0.9905\n",
      "Epoch 8/30\n",
      "422/422 [==============================] - 3s 6ms/step - loss: 0.0470 - accuracy: 0.9860 - val_loss: 0.0327 - val_accuracy: 0.9903\n",
      "Epoch 9/30\n",
      "422/422 [==============================] - 2s 6ms/step - loss: 0.0421 - accuracy: 0.9863 - val_loss: 0.0310 - val_accuracy: 0.9907\n",
      "Epoch 10/30\n",
      "422/422 [==============================] - 3s 6ms/step - loss: 0.0419 - accuracy: 0.9860 - val_loss: 0.0314 - val_accuracy: 0.9913\n",
      "Epoch 11/30\n",
      "422/422 [==============================] - 3s 6ms/step - loss: 0.0394 - accuracy: 0.9874 - val_loss: 0.0295 - val_accuracy: 0.9918\n",
      "Epoch 12/30\n",
      "422/422 [==============================] - 3s 6ms/step - loss: 0.0382 - accuracy: 0.9875 - val_loss: 0.0266 - val_accuracy: 0.9928\n",
      "Epoch 13/30\n",
      "422/422 [==============================] - 2s 6ms/step - loss: 0.0356 - accuracy: 0.9888 - val_loss: 0.0298 - val_accuracy: 0.9930\n",
      "Epoch 14/30\n",
      "422/422 [==============================] - 2s 6ms/step - loss: 0.0363 - accuracy: 0.9884 - val_loss: 0.0290 - val_accuracy: 0.9923\n",
      "Epoch 15/30\n",
      "422/422 [==============================] - 2s 5ms/step - loss: 0.0342 - accuracy: 0.9887 - val_loss: 0.0276 - val_accuracy: 0.9925\n",
      "Epoch 16/30\n",
      "422/422 [==============================] - 3s 6ms/step - loss: 0.0301 - accuracy: 0.9901 - val_loss: 0.0261 - val_accuracy: 0.9940\n",
      "Epoch 17/30\n",
      "422/422 [==============================] - 3s 6ms/step - loss: 0.0291 - accuracy: 0.9911 - val_loss: 0.0299 - val_accuracy: 0.9922\n",
      "Epoch 18/30\n",
      "422/422 [==============================] - 2s 6ms/step - loss: 0.0291 - accuracy: 0.9907 - val_loss: 0.0302 - val_accuracy: 0.9917\n",
      "Epoch 19/30\n",
      "422/422 [==============================] - 3s 6ms/step - loss: 0.0264 - accuracy: 0.9920 - val_loss: 0.0267 - val_accuracy: 0.9927\n",
      "Epoch 20/30\n",
      "422/422 [==============================] - 3s 6ms/step - loss: 0.0270 - accuracy: 0.9912 - val_loss: 0.0278 - val_accuracy: 0.9922\n",
      "Epoch 21/30\n",
      "422/422 [==============================] - 3s 7ms/step - loss: 0.0242 - accuracy: 0.9918 - val_loss: 0.0294 - val_accuracy: 0.9920\n",
      "Epoch 22/30\n",
      "422/422 [==============================] - 3s 6ms/step - loss: 0.0238 - accuracy: 0.9919 - val_loss: 0.0293 - val_accuracy: 0.9927\n",
      "Epoch 23/30\n",
      "422/422 [==============================] - 2s 6ms/step - loss: 0.0238 - accuracy: 0.9918 - val_loss: 0.0281 - val_accuracy: 0.9927\n",
      "Epoch 24/30\n",
      "422/422 [==============================] - 3s 6ms/step - loss: 0.0271 - accuracy: 0.9916 - val_loss: 0.0297 - val_accuracy: 0.9922\n",
      "Epoch 25/30\n",
      "422/422 [==============================] - 2s 6ms/step - loss: 0.0222 - accuracy: 0.9922 - val_loss: 0.0279 - val_accuracy: 0.9915\n",
      "Epoch 26/30\n",
      "422/422 [==============================] - 2s 6ms/step - loss: 0.0235 - accuracy: 0.9922 - val_loss: 0.0289 - val_accuracy: 0.9932\n",
      "Epoch 27/30\n",
      "422/422 [==============================] - 3s 6ms/step - loss: 0.0213 - accuracy: 0.9927 - val_loss: 0.0324 - val_accuracy: 0.9922\n",
      "Epoch 28/30\n",
      "422/422 [==============================] - 3s 6ms/step - loss: 0.0229 - accuracy: 0.9922 - val_loss: 0.0297 - val_accuracy: 0.9923\n",
      "Epoch 29/30\n",
      " 27/422 [>.............................] - ETA: 0s - loss: 0.0171 - accuracy: 0.9931"
     ]
    }
   ],
   "source": [
    "# Hyperparameters\n",
    "batch_size = 128\n",
    "epochs = 30\n",
    "model.compile(loss=\"categorical_crossentropy\", optimizer=\"adam\", metrics=[\"accuracy\"])\n",
    "\n",
    "# model training\n",
    "model.fit(X_train, y_train, batch_size=batch_size, epochs=epochs, validation_split=0.1)"
   ]
  },
  {
   "cell_type": "markdown",
   "id": "51cc6113",
   "metadata": {},
   "source": [
    "# avaliação do modelo"
   ]
  },
  {
   "cell_type": "code",
   "execution_count": 10,
   "id": "886cb383",
   "metadata": {},
   "outputs": [
    {
     "name": "stdout",
     "output_type": "stream",
     "text": [
      "Test loss: 2.3004016876220703\n",
      "Test accuracy: 0.11349999904632568\n"
     ]
    }
   ],
   "source": [
    "score = model.evaluate(X_test, y_test, verbose=0)\n",
    "print(\"Test loss:\", score[0])\n",
    "print(\"Test accuracy:\", score[1])"
   ]
  },
  {
   "cell_type": "code",
   "execution_count": null,
   "id": "5a67cca1",
   "metadata": {},
   "outputs": [],
   "source": []
  }
 ],
 "metadata": {
  "kernelspec": {
   "display_name": "Python 3 (ipykernel)",
   "language": "python",
   "name": "python3"
  },
  "language_info": {
   "codemirror_mode": {
    "name": "ipython",
    "version": 3
   },
   "file_extension": ".py",
   "mimetype": "text/x-python",
   "name": "python",
   "nbconvert_exporter": "python",
   "pygments_lexer": "ipython3",
   "version": "3.9.12"
  }
 },
 "nbformat": 4,
 "nbformat_minor": 5
}

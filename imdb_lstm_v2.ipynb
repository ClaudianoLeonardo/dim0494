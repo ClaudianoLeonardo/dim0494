{
  "nbformat": 4,
  "nbformat_minor": 0,
  "metadata": {
    "colab": {
      "provenance": [],
      "gpuType": "T4",
      "authorship_tag": "ABX9TyO1AV0vPRG4enK1vGOWsGq7",
      "include_colab_link": true
    },
    "kernelspec": {
      "name": "python3",
      "display_name": "Python 3"
    },
    "language_info": {
      "name": "python"
    },
    "accelerator": "GPU"
  },
  "cells": [
    {
      "cell_type": "markdown",
      "metadata": {
        "id": "view-in-github",
        "colab_type": "text"
      },
      "source": [
        "<a href=\"https://colab.research.google.com/github/rdsmaia/dim0494/blob/main/imdb_lstm_v2.ipynb\" target=\"_parent\"><img src=\"https://colab.research.google.com/assets/colab-badge.svg\" alt=\"Open In Colab\"/></a>"
      ]
    },
    {
      "cell_type": "code",
      "execution_count": 1,
      "metadata": {
        "id": "iVJc3HkwwHRu"
      },
      "outputs": [],
      "source": [
        "import tensorflow as tf\n",
        "import numpy as np\n",
        "import matplotlib.pyplot as plt\n",
        "#from tensorflow.keras import models, layers, optimizers, losses, metrics, utils, datasets, callbacks"
      ]
    },
    {
      "cell_type": "code",
      "source": [
        "# constants and hyperparameters\n",
        "hp = {\n",
        "    'MAX_WORD_INDEX': 10000,\n",
        "    'BATCH_SIZE': 128,\n",
        "    'NUM_EPOCHS': 10,\n",
        "    'LR': 0.001,\n",
        "    'BETA1': 0.9,\n",
        "    'BETA2': 0.999,\n",
        "    'EPSILON': 1.0e-8,\n",
        "    'DECAY': 0.0,\n",
        "    'VAL_PERC': 0.4,\n",
        "    'EMBEDDING_DIM': 64,\n",
        "    'NUM_LSTM_UNITS': 32,\n",
        "    'DROPOUT_RATE': 0.5\n",
        "}"
      ],
      "metadata": {
        "id": "CJDfbOqawg7m"
      },
      "execution_count": 2,
      "outputs": []
    },
    {
      "cell_type": "code",
      "source": [
        "# load database using Keras\n",
        "(train_data, train_labels), (test_data, test_labels) = tf.keras.datasets.imdb.load_data(num_words = hp['MAX_WORD_INDEX'])"
      ],
      "metadata": {
        "id": "3OIQ17T_xEq4"
      },
      "execution_count": 3,
      "outputs": []
    },
    {
      "cell_type": "code",
      "source": [
        "#  print some information on the data\n",
        "max_seq_len_train = max([len(sequence) for sequence in train_data])\n",
        "max_seq_len_test = max([len(sequence) for sequence in test_data])\n",
        "min_seq_len_train = min([len(sequence) for sequence in train_data])\n",
        "min_seq_len_test = min([len(sequence) for sequence in test_data])\n",
        "print(f'Maximum train sequence length: {max_seq_len_train}')\n",
        "print(f'Maximum test sequence length: {max_seq_len_test}')\n",
        "print(f'Minimum train sequence length: {min_seq_len_train}')\n",
        "print(f'Minimum test sequence length: {min_seq_len_test}')"
      ],
      "metadata": {
        "colab": {
          "base_uri": "https://localhost:8080/"
        },
        "id": "caJGW2vzxMnL",
        "outputId": "53ecee5b-0e22-498a-ad49-98f68101d340"
      },
      "execution_count": 4,
      "outputs": [
        {
          "output_type": "stream",
          "name": "stdout",
          "text": [
            "Maximum train sequence length: 2494\n",
            "Maximum test sequence length: 2315\n",
            "Minimum train sequence length: 11\n",
            "Minimum test sequence length: 7\n"
          ]
        }
      ]
    },
    {
      "cell_type": "code",
      "source": [
        "# randomly selects a sentence, look at the encoding and check its label\n",
        "word_index = tf.keras.datasets.imdb.get_word_index()\n",
        "\n",
        "ind = 33\n",
        "\n",
        "reverse_word_index = dict([(value, key) for (key, value) in word_index.items()])\n",
        "\n",
        "decoded_review = ' '.join([reverse_word_index.get(i-3, '?') for i in train_data[ind]])\n",
        "\n",
        "print(f'REVIEW:\\n {decoded_review}\\n')\n",
        "print(f'Encoded sequence of words:\\n {train_data[ind]}\\n')\n",
        "print(f'Label: {train_labels[ind]}\\n')"
      ],
      "metadata": {
        "colab": {
          "base_uri": "https://localhost:8080/"
        },
        "id": "L-0_HC33xQgi",
        "outputId": "024568c7-7ac2-4ca3-ee4c-2c2b6734f153"
      },
      "execution_count": 5,
      "outputs": [
        {
          "output_type": "stream",
          "name": "stdout",
          "text": [
            "REVIEW:\n",
            " ? i don't know what it is i find so endearing about this film but the first time i saw it i wanted to see how it ended i'm not a big fan of paul ? nor of war dramas but i was truly wondering just how and when ? would find his child all he knows is that the boy has green eyes truth be told i have not seen this movie in years nor has it been shown on tv in a while but this movie is somewhat of one man's odyssey after the pains of war ? shows a very sympathetic and heart warming portrayal of a man lost by his memories there is an underlying message in this movie that he is looking for the last shred of human morality in the aftermath of this war and the reality that he does confront why this movie is not yet on dvd or video is a mystery to me\n",
            "\n",
            "Encoded sequence of words:\n",
            " [1, 13, 92, 124, 51, 12, 9, 13, 169, 38, 3308, 44, 14, 22, 21, 4, 86, 58, 13, 219, 12, 13, 473, 8, 67, 89, 12, 1054, 146, 24, 6, 194, 337, 7, 723, 2, 885, 7, 325, 3287, 21, 13, 16, 371, 1535, 43, 89, 5, 54, 2, 62, 169, 27, 506, 32, 29, 694, 9, 15, 4, 430, 47, 1419, 523, 882, 30, 579, 13, 28, 24, 110, 14, 20, 11, 153, 885, 47, 12, 77, 617, 23, 248, 11, 6, 137, 21, 14, 20, 9, 643, 7, 31, 1601, 6761, 103, 4, 7154, 7, 325, 2, 287, 6, 55, 2259, 5, 483, 4051, 1146, 7, 6, 132, 416, 34, 27, 1883, 50, 9, 35, 5029, 749, 11, 14, 20, 15, 29, 9, 267, 18, 4, 236, 7778, 7, 406, 3696, 11, 4, 7032, 7, 14, 325, 5, 4, 635, 15, 29, 127, 6275, 138, 14, 20, 9, 24, 246, 23, 288, 42, 374, 9, 6, 736, 8, 72]\n",
            "\n",
            "Label: 1\n",
            "\n"
          ]
        }
      ]
    },
    {
      "cell_type": "code",
      "source": [
        "# pad sequences\n",
        "X_train = tf.keras.utils.pad_sequences(train_data)\n",
        "X_test = tf.keras.utils.pad_sequences(test_data, maxlen=X_train.shape[1])\n",
        "print(f'X_train shape: {X_train.shape}')\n",
        "print(f'X_test shape: {X_test.shape}')"
      ],
      "metadata": {
        "colab": {
          "base_uri": "https://localhost:8080/"
        },
        "id": "suvn3LH5xUri",
        "outputId": "288c8660-e3d0-4d19-f70b-e2064fd6d418"
      },
      "execution_count": 8,
      "outputs": [
        {
          "output_type": "stream",
          "name": "stdout",
          "text": [
            "X_train shape: (25000, 2494)\n",
            "X_test shape: (25000, 2494)\n"
          ]
        }
      ]
    },
    {
      "cell_type": "code",
      "source": [
        "# transform labels  into arrays\n",
        "y_train = np.asarray(train_labels).astype('float32')\n",
        "y_test  = np.asarray(test_labels).astype('float32')\n",
        "print(f'y_train shape: {y_train.shape}')\n",
        "print(f'y_test shape: {y_test.shape}')"
      ],
      "metadata": {
        "colab": {
          "base_uri": "https://localhost:8080/"
        },
        "id": "v2nzIHyFxbiz",
        "outputId": "b5d277cb-8703-4169-b999-58e698ddbad8"
      },
      "execution_count": 9,
      "outputs": [
        {
          "output_type": "stream",
          "name": "stdout",
          "text": [
            "y_train shape: (25000,)\n",
            "y_test shape: (25000,)\n"
          ]
        }
      ]
    },
    {
      "cell_type": "code",
      "source": [
        "# split training data into training and validation\n",
        "nsamples = X_train.shape[0]\n",
        "nval_samples = int(hp['VAL_PERC'] * nsamples)\n",
        "X_val = X_train[:nval_samples]\n",
        "partial_X_train = X_train[nval_samples:]\n",
        "y_val = y_train[:nval_samples]\n",
        "partial_y_train = y_train[nval_samples:]"
      ],
      "metadata": {
        "id": "SxG-Cz9Qxf9t"
      },
      "execution_count": 10,
      "outputs": []
    },
    {
      "cell_type": "code",
      "source": [
        "# build model\n",
        "model1 = tf.keras.models.Sequential()\n",
        "model1.add(tf.keras.layers.Embedding(hp['MAX_WORD_INDEX'], hp['EMBEDDING_DIM']))\n",
        "model1.add(tf.keras.layers.LSTM(\n",
        "    units=hp['NUM_LSTM_UNITS'],\n",
        "    ))\n",
        "model1.add(tf.keras.layers.Dropout(rate=hp['DROPOUT_RATE']))\n",
        "model1.add(tf.keras.layers.Dense(1, activation='sigmoid'))\n",
        "print(model1.summary())"
      ],
      "metadata": {
        "colab": {
          "base_uri": "https://localhost:8080/"
        },
        "id": "rWFkrK4cxooz",
        "outputId": "c200fca0-10f6-4fdf-83c3-5ff5f6785df8"
      },
      "execution_count": 11,
      "outputs": [
        {
          "output_type": "stream",
          "name": "stdout",
          "text": [
            "Model: \"sequential\"\n",
            "_________________________________________________________________\n",
            " Layer (type)                Output Shape              Param #   \n",
            "=================================================================\n",
            " embedding (Embedding)       (None, None, 64)          640000    \n",
            "                                                                 \n",
            " lstm (LSTM)                 (None, 32)                12416     \n",
            "                                                                 \n",
            " dropout (Dropout)           (None, 32)                0         \n",
            "                                                                 \n",
            " dense (Dense)               (None, 1)                 33        \n",
            "                                                                 \n",
            "=================================================================\n",
            "Total params: 652449 (2.49 MB)\n",
            "Trainable params: 652449 (2.49 MB)\n",
            "Non-trainable params: 0 (0.00 Byte)\n",
            "_________________________________________________________________\n",
            "None\n"
          ]
        }
      ]
    },
    {
      "cell_type": "code",
      "source": [
        "# set optimizer\n",
        "opt = tf.keras.optimizers.Adam(learning_rate=hp['LR'],\n",
        "                      beta_1=hp['BETA1'],\n",
        "                      beta_2=hp['BETA2'],\n",
        "                      epsilon=hp['EPSILON'],\n",
        "                      weight_decay=hp['DECAY'])"
      ],
      "metadata": {
        "id": "NHSF3HHkyBNv"
      },
      "execution_count": 12,
      "outputs": []
    },
    {
      "cell_type": "code",
      "source": [
        "# set loss and metrics\n",
        "loss = tf.keras.losses.binary_crossentropy\n",
        "met = [tf.keras.metrics.binary_accuracy]"
      ],
      "metadata": {
        "id": "tISXSgn1ysEg"
      },
      "execution_count": 13,
      "outputs": []
    },
    {
      "cell_type": "code",
      "source": [
        "# compile model: optimization method, training criterion and metrics\n",
        "model1.compile(\n",
        "    optimizer=opt,\n",
        "    loss=loss,\n",
        "    metrics=met\n",
        "    )"
      ],
      "metadata": {
        "id": "HFUMv-RZywnM"
      },
      "execution_count": 14,
      "outputs": []
    },
    {
      "cell_type": "code",
      "source": [
        "# early stop\n",
        "callbacks_list = [\n",
        "    tf.keras.callbacks.EarlyStopping(\n",
        "        monitor='binary_accuracy',\n",
        "        patience=5),\n",
        "    ]"
      ],
      "metadata": {
        "id": "OOrtVKROy0ET"
      },
      "execution_count": 16,
      "outputs": []
    },
    {
      "cell_type": "code",
      "source": [
        "# train model\n",
        "history = model1.fit(partial_X_train,\n",
        "                    partial_y_train,\n",
        "                    epochs=hp['NUM_EPOCHS'],\n",
        "                    batch_size=hp['BATCH_SIZE'],\n",
        "                    shuffle=True,\n",
        "                    validation_data=(X_val, y_val),\n",
        "                    callbacks=callbacks_list,\n",
        "                    verbose=1)"
      ],
      "metadata": {
        "colab": {
          "base_uri": "https://localhost:8080/"
        },
        "id": "F_bMmNb4y3e8",
        "outputId": "fac15d47-c9c4-4348-d1be-d6feddd90421"
      },
      "execution_count": 17,
      "outputs": [
        {
          "output_type": "stream",
          "name": "stdout",
          "text": [
            "Epoch 1/10\n",
            "118/118 [==============================] - 43s 330ms/step - loss: 0.5935 - binary_accuracy: 0.6977 - val_loss: 0.3945 - val_binary_accuracy: 0.8312\n",
            "Epoch 2/10\n",
            "118/118 [==============================] - 33s 276ms/step - loss: 0.3108 - binary_accuracy: 0.8781 - val_loss: 0.3065 - val_binary_accuracy: 0.8716\n",
            "Epoch 3/10\n",
            "118/118 [==============================] - 27s 225ms/step - loss: 0.2098 - binary_accuracy: 0.9277 - val_loss: 0.3185 - val_binary_accuracy: 0.8702\n",
            "Epoch 4/10\n",
            "118/118 [==============================] - 25s 215ms/step - loss: 0.1463 - binary_accuracy: 0.9524 - val_loss: 0.3470 - val_binary_accuracy: 0.8636\n",
            "Epoch 5/10\n",
            "118/118 [==============================] - 22s 190ms/step - loss: 0.1056 - binary_accuracy: 0.9686 - val_loss: 0.4678 - val_binary_accuracy: 0.8626\n",
            "Epoch 6/10\n",
            "118/118 [==============================] - 21s 177ms/step - loss: 0.0825 - binary_accuracy: 0.9764 - val_loss: 0.4433 - val_binary_accuracy: 0.8648\n",
            "Epoch 7/10\n",
            "118/118 [==============================] - 20s 171ms/step - loss: 0.0662 - binary_accuracy: 0.9817 - val_loss: 0.5261 - val_binary_accuracy: 0.8455\n",
            "Epoch 8/10\n",
            "118/118 [==============================] - 17s 141ms/step - loss: 0.1568 - binary_accuracy: 0.9394 - val_loss: 0.4658 - val_binary_accuracy: 0.8479\n",
            "Epoch 9/10\n",
            "118/118 [==============================] - 18s 150ms/step - loss: 0.0885 - binary_accuracy: 0.9711 - val_loss: 0.5096 - val_binary_accuracy: 0.8624\n",
            "Epoch 10/10\n",
            "118/118 [==============================] - 15s 130ms/step - loss: 0.0551 - binary_accuracy: 0.9830 - val_loss: 0.5505 - val_binary_accuracy: 0.8635\n"
          ]
        }
      ]
    },
    {
      "cell_type": "code",
      "source": [
        "# learning curves\n",
        "history_dict = history.history\n",
        "history_dict.keys()\n",
        "\n",
        "# losses\n",
        "loss_values = history_dict['loss']\n",
        "val_loss_values = history_dict['val_loss']\n",
        "\n",
        "# accuracies\n",
        "acc_values = history_dict['binary_accuracy']\n",
        "val_acc_values = history_dict['val_binary_accuracy']\n",
        "\n",
        "epochs = range(hp['NUM_EPOCHS'])\n",
        "\n",
        "fig, (ax1, ax2) = plt.subplots(2,1, figsize=(8,8))\n",
        "\n",
        "ax1.plot(epochs, loss_values, 'bo', label=\"Training Loss\")\n",
        "ax1.plot(epochs, val_loss_values, 'b', label=\"Validation Loss\")\n",
        "ax1.set_title('Training and Validation Loss')\n",
        "ax1.set_xlabel('Epochs')\n",
        "ax1.set_ylabel('Loss Value')\n",
        "ax1.legend()\n",
        "\n",
        "ax2.plot(epochs, acc_values, 'ro', label=\"Training Accuracy\")\n",
        "ax2.plot(epochs, val_acc_values, 'r', label=\"Validation Accuracy\")\n",
        "ax2.set_title('Training and Validation Accuraccy')\n",
        "ax2.set_xlabel('Epochs')\n",
        "ax2.set_ylabel('Accuracy')\n",
        "ax2.legend()\n",
        "\n",
        "plt.show()"
      ],
      "metadata": {
        "colab": {
          "base_uri": "https://localhost:8080/",
          "height": 718
        },
        "id": "6XM6wJiYzHBJ",
        "outputId": "1a65407d-628b-4083-bef1-f1496bc78fcc"
      },
      "execution_count": 18,
      "outputs": [
        {
          "output_type": "display_data",
          "data": {
            "text/plain": [
              "<Figure size 800x800 with 2 Axes>"
            ],
            "image/png": "[encoded data removed]"
          },
          "metadata": {}
        }
      ]
    },
    {
      "cell_type": "code",
      "source": [
        "# testing model\n",
        "y_test_hat = model1.predict()"
      ],
      "metadata": {
        "id": "fMB2R8CC0XTM"
      },
      "execution_count": null,
      "outputs": []
    }
  ]
}